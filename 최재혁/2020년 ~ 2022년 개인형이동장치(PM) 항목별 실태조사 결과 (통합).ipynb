{
 "cells": [
  {
   "cell_type": "code",
   "execution_count": 2,
   "id": "d32a3876",
   "metadata": {},
   "outputs": [],
   "source": [
    "import pandas as pd"
   ]
  },
  {
   "cell_type": "code",
   "execution_count": 3,
   "id": "bce0a625",
   "metadata": {},
   "outputs": [],
   "source": [
    "raw_data=pd.read_csv('C:\\\\rawData\\\\2020년 ~ 2022년 개인형이동장치(PM) 항목별 실태조사 결과 (통합).csv',encoding='cp949')"
   ]
  },
  {
   "cell_type": "code",
   "execution_count": 5,
   "id": "22f8d9df",
   "metadata": {},
   "outputs": [
    {
     "data": {
      "text/html": [
       "<div>\n",
       "<style scoped>\n",
       "    .dataframe tbody tr th:only-of-type {\n",
       "        vertical-align: middle;\n",
       "    }\n",
       "\n",
       "    .dataframe tbody tr th {\n",
       "        vertical-align: top;\n",
       "    }\n",
       "\n",
       "    .dataframe thead th {\n",
       "        text-align: right;\n",
       "    }\n",
       "</style>\n",
       "<table border=\"1\" class=\"dataframe\">\n",
       "  <thead>\n",
       "    <tr style=\"text-align: right;\">\n",
       "      <th></th>\n",
       "      <th>구분</th>\n",
       "      <th>2020년</th>\n",
       "      <th>2021년</th>\n",
       "      <th>2022년</th>\n",
       "      <th>증감(‘22-‘21)</th>\n",
       "    </tr>\n",
       "  </thead>\n",
       "  <tbody>\n",
       "    <tr>\n",
       "      <th>0</th>\n",
       "      <td>안전모 착용률</td>\n",
       "      <td>8.90%</td>\n",
       "      <td>26.30%</td>\n",
       "      <td>19.20%</td>\n",
       "      <td>-7.1%p</td>\n",
       "    </tr>\n",
       "    <tr>\n",
       "      <th>1</th>\n",
       "      <td>주행방향 준수율(역주행 여부)</td>\n",
       "      <td>87.30%</td>\n",
       "      <td>87.50%</td>\n",
       "      <td>94.30%</td>\n",
       "      <td>6.80%p</td>\n",
       "    </tr>\n",
       "    <tr>\n",
       "      <th>2</th>\n",
       "      <td>탑승 인원 준수율</td>\n",
       "      <td>95.90%</td>\n",
       "      <td>96.30%</td>\n",
       "      <td>92.70%</td>\n",
       "      <td>3.60%p</td>\n",
       "    </tr>\n",
       "  </tbody>\n",
       "</table>\n",
       "</div>"
      ],
      "text/plain": [
       "                 구분   2020년   2021년   2022년 증감(‘22-‘21)\n",
       "0           안전모 착용률   8.90%  26.30%  19.20%      -7.1%p\n",
       "1  주행방향 준수율(역주행 여부)  87.30%  87.50%  94.30%      6.80%p\n",
       "2         탑승 인원 준수율  95.90%  96.30%  92.70%      3.60%p"
      ]
     },
     "execution_count": 5,
     "metadata": {},
     "output_type": "execute_result"
    }
   ],
   "source": [
    "raw_data"
   ]
  },
  {
   "cell_type": "code",
   "execution_count": 9,
   "id": "a658c8fb",
   "metadata": {},
   "outputs": [],
   "source": [
    "pm_data=raw_data[[\"구분\",\"2020년\",\"2021년\",\"2022년\"]]"
   ]
  },
  {
   "cell_type": "code",
   "execution_count": 10,
   "id": "4572a44b",
   "metadata": {},
   "outputs": [
    {
     "data": {
      "text/html": [
       "<div>\n",
       "<style scoped>\n",
       "    .dataframe tbody tr th:only-of-type {\n",
       "        vertical-align: middle;\n",
       "    }\n",
       "\n",
       "    .dataframe tbody tr th {\n",
       "        vertical-align: top;\n",
       "    }\n",
       "\n",
       "    .dataframe thead th {\n",
       "        text-align: right;\n",
       "    }\n",
       "</style>\n",
       "<table border=\"1\" class=\"dataframe\">\n",
       "  <thead>\n",
       "    <tr style=\"text-align: right;\">\n",
       "      <th></th>\n",
       "      <th>구분</th>\n",
       "      <th>2020년</th>\n",
       "      <th>2021년</th>\n",
       "      <th>2022년</th>\n",
       "    </tr>\n",
       "  </thead>\n",
       "  <tbody>\n",
       "    <tr>\n",
       "      <th>0</th>\n",
       "      <td>안전모 착용률</td>\n",
       "      <td>8.90%</td>\n",
       "      <td>26.30%</td>\n",
       "      <td>19.20%</td>\n",
       "    </tr>\n",
       "    <tr>\n",
       "      <th>1</th>\n",
       "      <td>주행방향 준수율(역주행 여부)</td>\n",
       "      <td>87.30%</td>\n",
       "      <td>87.50%</td>\n",
       "      <td>94.30%</td>\n",
       "    </tr>\n",
       "    <tr>\n",
       "      <th>2</th>\n",
       "      <td>탑승 인원 준수율</td>\n",
       "      <td>95.90%</td>\n",
       "      <td>96.30%</td>\n",
       "      <td>92.70%</td>\n",
       "    </tr>\n",
       "  </tbody>\n",
       "</table>\n",
       "</div>"
      ],
      "text/plain": [
       "                 구분   2020년   2021년   2022년\n",
       "0           안전모 착용률   8.90%  26.30%  19.20%\n",
       "1  주행방향 준수율(역주행 여부)  87.30%  87.50%  94.30%\n",
       "2         탑승 인원 준수율  95.90%  96.30%  92.70%"
      ]
     },
     "execution_count": 10,
     "metadata": {},
     "output_type": "execute_result"
    }
   ],
   "source": [
    "pm_data"
   ]
  },
  {
   "cell_type": "code",
   "execution_count": null,
   "id": "5931a7ef",
   "metadata": {},
   "outputs": [],
   "source": []
  },
  {
   "cell_type": "code",
   "execution_count": null,
   "id": "c987ddbf",
   "metadata": {},
   "outputs": [],
   "source": []
  }
 ],
 "metadata": {
  "kernelspec": {
   "display_name": "Python 3 (ipykernel)",
   "language": "python",
   "name": "python3"
  },
  "language_info": {
   "codemirror_mode": {
    "name": "ipython",
    "version": 3
   },
   "file_extension": ".py",
   "mimetype": "text/x-python",
   "name": "python",
   "nbconvert_exporter": "python",
   "pygments_lexer": "ipython3",
   "version": "3.9.13"
  }
 },
 "nbformat": 4,
 "nbformat_minor": 5
}
