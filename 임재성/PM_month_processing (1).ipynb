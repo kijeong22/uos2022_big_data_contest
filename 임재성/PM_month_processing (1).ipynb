{
  "nbformat": 4,
  "nbformat_minor": 0,
  "metadata": {
    "colab": {
      "provenance": []
    },
    "kernelspec": {
      "name": "python3",
      "display_name": "Python 3"
    },
    "language_info": {
      "name": "python"
    }
  },
  "cells": [
    {
      "cell_type": "code",
      "execution_count": 1,
      "metadata": {
        "colab": {
          "base_uri": "https://localhost:8080/"
        },
        "id": "pI_U7dDis-eP",
        "outputId": "0f653833-89d3-40a1-99d8-ef1f3fbab2c8"
      },
      "outputs": [
        {
          "output_type": "stream",
          "name": "stdout",
          "text": [
            "Looking in indexes: https://pypi.org/simple, https://us-python.pkg.dev/colab-wheels/public/simple/\n",
            "Requirement already satisfied: xlrd==1.2.0 in /usr/local/lib/python3.7/dist-packages (1.2.0)\n"
          ]
        }
      ],
      "source": [
        "!pip install xlrd==1.2.0"
      ]
    },
    {
      "cell_type": "code",
      "source": [
        "!sudo apt-get install -y fonts-nanum\n",
        "!sudo fc-cache -fv\n",
        "!rm ~/.cache/matplotlib -rf"
      ],
      "metadata": {
        "id": "sRHgv7ECTBUx",
        "colab": {
          "base_uri": "https://localhost:8080/"
        },
        "outputId": "38f82f93-880c-40a1-8f4f-7d6afe247809"
      },
      "execution_count": 2,
      "outputs": [
        {
          "output_type": "stream",
          "name": "stdout",
          "text": [
            "Reading package lists... Done\n",
            "Building dependency tree       \n",
            "Reading state information... Done\n",
            "fonts-nanum is already the newest version (20170925-1).\n",
            "The following package was automatically installed and is no longer required:\n",
            "  libnvidia-common-460\n",
            "Use 'sudo apt autoremove' to remove it.\n",
            "0 upgraded, 0 newly installed, 0 to remove and 6 not upgraded.\n",
            "/usr/share/fonts: caching, new cache contents: 0 fonts, 1 dirs\n",
            "/usr/share/fonts/truetype: caching, new cache contents: 0 fonts, 3 dirs\n",
            "/usr/share/fonts/truetype/humor-sans: caching, new cache contents: 1 fonts, 0 dirs\n",
            "/usr/share/fonts/truetype/liberation: caching, new cache contents: 16 fonts, 0 dirs\n",
            "/usr/share/fonts/truetype/nanum: caching, new cache contents: 31 fonts, 0 dirs\n",
            "/usr/local/share/fonts: caching, new cache contents: 0 fonts, 0 dirs\n",
            "/root/.local/share/fonts: skipping, no such directory\n",
            "/root/.fonts: skipping, no such directory\n",
            "/var/cache/fontconfig: cleaning cache directory\n",
            "/root/.cache/fontconfig: not cleaning non-existent cache directory\n",
            "/root/.fontconfig: not cleaning non-existent cache directory\n",
            "fc-cache: succeeded\n"
          ]
        }
      ]
    },
    {
      "cell_type": "code",
      "source": [
        "from google.colab import drive\n",
        "drive.mount('/content/gdrive')"
      ],
      "metadata": {
        "colab": {
          "base_uri": "https://localhost:8080/"
        },
        "id": "73yVPpvHtBCb",
        "outputId": "fc45200a-a11a-459e-bb12-f9a47469f6ba"
      },
      "execution_count": 3,
      "outputs": [
        {
          "output_type": "stream",
          "name": "stdout",
          "text": [
            "Drive already mounted at /content/gdrive; to attempt to forcibly remount, call drive.mount(\"/content/gdrive\", force_remount=True).\n"
          ]
        }
      ]
    },
    {
      "cell_type": "code",
      "source": [
        "import pandas as pd"
      ],
      "metadata": {
        "id": "Io0cninRtBZx"
      },
      "execution_count": 4,
      "outputs": []
    },
    {
      "cell_type": "code",
      "source": [
        "# local_file_path : 로컬 파일 경로 \n",
        "local_file_path = '../data/월별 교통사고.xls' \n",
        "colab_file_path =  '/content/gdrive/My Drive/빅데이터경진대회/월별 교통사고.xls' \n",
        "file_path = colab_file_path\n",
        "\n",
        "df_pm_raw = pd.read_excel(file_path)"
      ],
      "metadata": {
        "id": "hZoA1uAftEjk"
      },
      "execution_count": 5,
      "outputs": []
    },
    {
      "cell_type": "code",
      "source": [
        "# 개인형이동수단만 추출\n",
        "df_pm_raw = df_pm_raw.iloc[58:61,2:]"
      ],
      "metadata": {
        "id": "5R4StG0tto3X"
      },
      "execution_count": 6,
      "outputs": []
    },
    {
      "cell_type": "code",
      "source": [
        "# 열 이름 renaming\n",
        "df_pm_raw.columns = [\"유형\",\n",
        "                 \"2017년\", \"2017년 1월\", \"2017년 2월\", \"2017년 3월\", \"2017년 4월\",\n",
        "                 \"2017년 5월\", \"2017년 6월\", \"2017년 7월\", \"2017년 8월\", \n",
        "                 \"2017년 9월\", \"2017년 10월\", \"2017년 11월\", \"2017년 12월\", \n",
        "                 \"2018년\", \"2018년 1월\", \"2018년 2월\", \"2018년 3월\", \"2018년 4월\",\n",
        "                 \"2018년 5월\", \"2018년 6월\", \"2018년 7월\", \"2018년 8월\", \n",
        "                 \"2018년 9월\", \"2018년 10월\", \"2018년 11월\", \"2018년 12월\",\n",
        "                 \"2019년\", \"2019년 1월\", \"2019년 2월\", \"2019년 3월\", \"2019년 4월\",\n",
        "                 \"2019년 5월\", \"2019년 6월\", \"2019년 7월\", \"2019년 8월\", \n",
        "                 \"2019년 9월\", \"2019년 10월\", \"2019년 11월\", \"2019년 12월\",\n",
        "                 \"2020년\", \"2020년 1월\", \"2020년 2월\", \"2020년 3월\", \"2020년 4월\",\n",
        "                 \"2020년 5월\", \"2020년 6월\", \"2020년 7월\", \"2020년 8월\", \n",
        "                 \"2020년 9월\", \"2020년 10월\", \"2020년 11월\", \"2020년 12월\",\n",
        "                 \"2021년\", \"2021년 1월\", \"2021년 2월\", \"2021년 3월\", \"2021년 4월\",\n",
        "                 \"2021년 5월\", \"2021년 6월\", \"2021년 7월\", \"2021년 8월\", \n",
        "                 \"2021년 9월\", \"2021년 10월\", \"2021년 11월\", \"2021년 12월\"]"
      ],
      "metadata": {
        "id": "eAQmMUectHWa"
      },
      "execution_count": 7,
      "outputs": []
    },
    {
      "cell_type": "code",
      "source": [
        "#연도별, 월별 혼합 데이터\n",
        "df_pm_month_year = df_pm_raw.reset_index(drop = True).replace('-', 0)\n",
        "df_pm_month_year"
      ],
      "metadata": {
        "colab": {
          "base_uri": "https://localhost:8080/",
          "height": 286
        },
        "id": "2FKY1lm0tH6R",
        "outputId": "194dc869-8af9-48c2-d99f-03847273209d"
      },
      "execution_count": 8,
      "outputs": [
        {
          "output_type": "execute_result",
          "data": {
            "text/plain": [
              "     유형  2017년  2017년 1월  2017년 2월  2017년 3월  2017년 4월  2017년 5월  2017년 6월  \\\n",
              "0  사고건수    117         0         2         4         4        15         7   \n",
              "1  사망자수      4         0         0         0         0         0         1   \n",
              "2  부상자수    124         0         2         4         5        16         8   \n",
              "\n",
              "   2017년 7월  2017년 8월  ...  2021년 3월  2021년 4월  2021년 5월  2021년 6월  2021년 7월  \\\n",
              "0        13        17  ...       133       173       166       167       186   \n",
              "1         1         1  ...         1         0         0         2         2   \n",
              "2        14        17  ...       143       201       186       179       199   \n",
              "\n",
              "   2021년 8월  2021년 9월  2021년 10월  2021년 11월  2021년 12월  \n",
              "0       181       184        174        152        113  \n",
              "1         1         2          4          2          2  \n",
              "2       197       206        189        164        121  \n",
              "\n",
              "[3 rows x 66 columns]"
            ],
            "text/html": [
              "\n",
              "  <div id=\"df-5c200ca9-2efc-42a5-a7ad-a30748a18a4d\">\n",
              "    <div class=\"colab-df-container\">\n",
              "      <div>\n",
              "<style scoped>\n",
              "    .dataframe tbody tr th:only-of-type {\n",
              "        vertical-align: middle;\n",
              "    }\n",
              "\n",
              "    .dataframe tbody tr th {\n",
              "        vertical-align: top;\n",
              "    }\n",
              "\n",
              "    .dataframe thead th {\n",
              "        text-align: right;\n",
              "    }\n",
              "</style>\n",
              "<table border=\"1\" class=\"dataframe\">\n",
              "  <thead>\n",
              "    <tr style=\"text-align: right;\">\n",
              "      <th></th>\n",
              "      <th>유형</th>\n",
              "      <th>2017년</th>\n",
              "      <th>2017년 1월</th>\n",
              "      <th>2017년 2월</th>\n",
              "      <th>2017년 3월</th>\n",
              "      <th>2017년 4월</th>\n",
              "      <th>2017년 5월</th>\n",
              "      <th>2017년 6월</th>\n",
              "      <th>2017년 7월</th>\n",
              "      <th>2017년 8월</th>\n",
              "      <th>...</th>\n",
              "      <th>2021년 3월</th>\n",
              "      <th>2021년 4월</th>\n",
              "      <th>2021년 5월</th>\n",
              "      <th>2021년 6월</th>\n",
              "      <th>2021년 7월</th>\n",
              "      <th>2021년 8월</th>\n",
              "      <th>2021년 9월</th>\n",
              "      <th>2021년 10월</th>\n",
              "      <th>2021년 11월</th>\n",
              "      <th>2021년 12월</th>\n",
              "    </tr>\n",
              "  </thead>\n",
              "  <tbody>\n",
              "    <tr>\n",
              "      <th>0</th>\n",
              "      <td>사고건수</td>\n",
              "      <td>117</td>\n",
              "      <td>0</td>\n",
              "      <td>2</td>\n",
              "      <td>4</td>\n",
              "      <td>4</td>\n",
              "      <td>15</td>\n",
              "      <td>7</td>\n",
              "      <td>13</td>\n",
              "      <td>17</td>\n",
              "      <td>...</td>\n",
              "      <td>133</td>\n",
              "      <td>173</td>\n",
              "      <td>166</td>\n",
              "      <td>167</td>\n",
              "      <td>186</td>\n",
              "      <td>181</td>\n",
              "      <td>184</td>\n",
              "      <td>174</td>\n",
              "      <td>152</td>\n",
              "      <td>113</td>\n",
              "    </tr>\n",
              "    <tr>\n",
              "      <th>1</th>\n",
              "      <td>사망자수</td>\n",
              "      <td>4</td>\n",
              "      <td>0</td>\n",
              "      <td>0</td>\n",
              "      <td>0</td>\n",
              "      <td>0</td>\n",
              "      <td>0</td>\n",
              "      <td>1</td>\n",
              "      <td>1</td>\n",
              "      <td>1</td>\n",
              "      <td>...</td>\n",
              "      <td>1</td>\n",
              "      <td>0</td>\n",
              "      <td>0</td>\n",
              "      <td>2</td>\n",
              "      <td>2</td>\n",
              "      <td>1</td>\n",
              "      <td>2</td>\n",
              "      <td>4</td>\n",
              "      <td>2</td>\n",
              "      <td>2</td>\n",
              "    </tr>\n",
              "    <tr>\n",
              "      <th>2</th>\n",
              "      <td>부상자수</td>\n",
              "      <td>124</td>\n",
              "      <td>0</td>\n",
              "      <td>2</td>\n",
              "      <td>4</td>\n",
              "      <td>5</td>\n",
              "      <td>16</td>\n",
              "      <td>8</td>\n",
              "      <td>14</td>\n",
              "      <td>17</td>\n",
              "      <td>...</td>\n",
              "      <td>143</td>\n",
              "      <td>201</td>\n",
              "      <td>186</td>\n",
              "      <td>179</td>\n",
              "      <td>199</td>\n",
              "      <td>197</td>\n",
              "      <td>206</td>\n",
              "      <td>189</td>\n",
              "      <td>164</td>\n",
              "      <td>121</td>\n",
              "    </tr>\n",
              "  </tbody>\n",
              "</table>\n",
              "<p>3 rows × 66 columns</p>\n",
              "</div>\n",
              "      <button class=\"colab-df-convert\" onclick=\"convertToInteractive('df-5c200ca9-2efc-42a5-a7ad-a30748a18a4d')\"\n",
              "              title=\"Convert this dataframe to an interactive table.\"\n",
              "              style=\"display:none;\">\n",
              "        \n",
              "  <svg xmlns=\"http://www.w3.org/2000/svg\" height=\"24px\"viewBox=\"0 0 24 24\"\n",
              "       width=\"24px\">\n",
              "    <path d=\"M0 0h24v24H0V0z\" fill=\"none\"/>\n",
              "    <path d=\"M18.56 5.44l.94 2.06.94-2.06 2.06-.94-2.06-.94-.94-2.06-.94 2.06-2.06.94zm-11 1L8.5 8.5l.94-2.06 2.06-.94-2.06-.94L8.5 2.5l-.94 2.06-2.06.94zm10 10l.94 2.06.94-2.06 2.06-.94-2.06-.94-.94-2.06-.94 2.06-2.06.94z\"/><path d=\"M17.41 7.96l-1.37-1.37c-.4-.4-.92-.59-1.43-.59-.52 0-1.04.2-1.43.59L10.3 9.45l-7.72 7.72c-.78.78-.78 2.05 0 2.83L4 21.41c.39.39.9.59 1.41.59.51 0 1.02-.2 1.41-.59l7.78-7.78 2.81-2.81c.8-.78.8-2.07 0-2.86zM5.41 20L4 18.59l7.72-7.72 1.47 1.35L5.41 20z\"/>\n",
              "  </svg>\n",
              "      </button>\n",
              "      \n",
              "  <style>\n",
              "    .colab-df-container {\n",
              "      display:flex;\n",
              "      flex-wrap:wrap;\n",
              "      gap: 12px;\n",
              "    }\n",
              "\n",
              "    .colab-df-convert {\n",
              "      background-color: #E8F0FE;\n",
              "      border: none;\n",
              "      border-radius: 50%;\n",
              "      cursor: pointer;\n",
              "      display: none;\n",
              "      fill: #1967D2;\n",
              "      height: 32px;\n",
              "      padding: 0 0 0 0;\n",
              "      width: 32px;\n",
              "    }\n",
              "\n",
              "    .colab-df-convert:hover {\n",
              "      background-color: #E2EBFA;\n",
              "      box-shadow: 0px 1px 2px rgba(60, 64, 67, 0.3), 0px 1px 3px 1px rgba(60, 64, 67, 0.15);\n",
              "      fill: #174EA6;\n",
              "    }\n",
              "\n",
              "    [theme=dark] .colab-df-convert {\n",
              "      background-color: #3B4455;\n",
              "      fill: #D2E3FC;\n",
              "    }\n",
              "\n",
              "    [theme=dark] .colab-df-convert:hover {\n",
              "      background-color: #434B5C;\n",
              "      box-shadow: 0px 1px 3px 1px rgba(0, 0, 0, 0.15);\n",
              "      filter: drop-shadow(0px 1px 2px rgba(0, 0, 0, 0.3));\n",
              "      fill: #FFFFFF;\n",
              "    }\n",
              "  </style>\n",
              "\n",
              "      <script>\n",
              "        const buttonEl =\n",
              "          document.querySelector('#df-5c200ca9-2efc-42a5-a7ad-a30748a18a4d button.colab-df-convert');\n",
              "        buttonEl.style.display =\n",
              "          google.colab.kernel.accessAllowed ? 'block' : 'none';\n",
              "\n",
              "        async function convertToInteractive(key) {\n",
              "          const element = document.querySelector('#df-5c200ca9-2efc-42a5-a7ad-a30748a18a4d');\n",
              "          const dataTable =\n",
              "            await google.colab.kernel.invokeFunction('convertToInteractive',\n",
              "                                                     [key], {});\n",
              "          if (!dataTable) return;\n",
              "\n",
              "          const docLinkHtml = 'Like what you see? Visit the ' +\n",
              "            '<a target=\"_blank\" href=https://colab.research.google.com/notebooks/data_table.ipynb>data table notebook</a>'\n",
              "            + ' to learn more about interactive tables.';\n",
              "          element.innerHTML = '';\n",
              "          dataTable['output_type'] = 'display_data';\n",
              "          await google.colab.output.renderOutput(dataTable, element);\n",
              "          const docLink = document.createElement('div');\n",
              "          docLink.innerHTML = docLinkHtml;\n",
              "          element.appendChild(docLink);\n",
              "        }\n",
              "      </script>\n",
              "    </div>\n",
              "  </div>\n",
              "  "
            ]
          },
          "metadata": {},
          "execution_count": 8
        }
      ]
    },
    {
      "cell_type": "code",
      "source": [
        "#월별 데이터 추출\n",
        "df_pm_month = df_pm_month_year.loc[[0, 1, 2],\n",
        "                [\"유형\",\"2017년 1월\", \"2017년 2월\", \"2017년 3월\", \"2017년 4월\",\n",
        "                 \"2017년 5월\", \"2017년 6월\", \"2017년 7월\", \"2017년 8월\", \n",
        "                 \"2017년 9월\", \"2017년 10월\", \"2017년 11월\", \"2017년 12월\", \n",
        "                 \"2018년 1월\", \"2018년 2월\", \"2018년 3월\", \"2018년 4월\",\n",
        "                 \"2018년 5월\", \"2018년 6월\", \"2018년 7월\", \"2018년 8월\", \n",
        "                 \"2018년 9월\", \"2018년 10월\", \"2018년 11월\", \"2018년 12월\",\n",
        "                 \"2019년 1월\", \"2019년 2월\", \"2019년 3월\", \"2019년 4월\",\n",
        "                 \"2019년 5월\", \"2019년 6월\", \"2019년 7월\", \"2019년 8월\", \n",
        "                 \"2019년 9월\", \"2019년 10월\", \"2019년 11월\", \"2019년 12월\",\n",
        "                 \"2020년 1월\", \"2020년 2월\", \"2020년 3월\", \"2020년 4월\",\n",
        "                 \"2020년 5월\", \"2020년 6월\", \"2020년 7월\", \"2020년 8월\", \n",
        "                 \"2020년 9월\", \"2020년 10월\", \"2020년 11월\", \"2020년 12월\",\n",
        "                 \"2021년 1월\", \"2021년 2월\", \"2021년 3월\", \"2021년 4월\",\n",
        "                 \"2021년 5월\", \"2021년 6월\", \"2021년 7월\", \"2021년 8월\", \n",
        "                 \"2021년 9월\", \"2021년 10월\", \"2021년 11월\", \"2021년 12월\"]]\n",
        "df_pm_month"
      ],
      "metadata": {
        "colab": {
          "base_uri": "https://localhost:8080/",
          "height": 286
        },
        "id": "U71kp2x9tLJe",
        "outputId": "ed70f381-2d84-4732-895c-4e8b075db2ef"
      },
      "execution_count": 9,
      "outputs": [
        {
          "output_type": "execute_result",
          "data": {
            "text/plain": [
              "     유형  2017년 1월  2017년 2월  2017년 3월  2017년 4월  2017년 5월  2017년 6월  2017년 7월  \\\n",
              "0  사고건수         0         2         4         4        15         7        13   \n",
              "1  사망자수         0         0         0         0         0         1         1   \n",
              "2  부상자수         0         2         4         5        16         8        14   \n",
              "\n",
              "   2017년 8월  2017년 9월  ...  2021년 3월  2021년 4월  2021년 5월  2021년 6월  2021년 7월  \\\n",
              "0        17        15  ...       133       173       166       167       186   \n",
              "1         1         0  ...         1         0         0         2         2   \n",
              "2        17        16  ...       143       201       186       179       199   \n",
              "\n",
              "   2021년 8월  2021년 9월  2021년 10월  2021년 11월  2021년 12월  \n",
              "0       181       184        174        152        113  \n",
              "1         1         2          4          2          2  \n",
              "2       197       206        189        164        121  \n",
              "\n",
              "[3 rows x 61 columns]"
            ],
            "text/html": [
              "\n",
              "  <div id=\"df-e3bf76e5-b906-4488-babb-0e7c3949d15b\">\n",
              "    <div class=\"colab-df-container\">\n",
              "      <div>\n",
              "<style scoped>\n",
              "    .dataframe tbody tr th:only-of-type {\n",
              "        vertical-align: middle;\n",
              "    }\n",
              "\n",
              "    .dataframe tbody tr th {\n",
              "        vertical-align: top;\n",
              "    }\n",
              "\n",
              "    .dataframe thead th {\n",
              "        text-align: right;\n",
              "    }\n",
              "</style>\n",
              "<table border=\"1\" class=\"dataframe\">\n",
              "  <thead>\n",
              "    <tr style=\"text-align: right;\">\n",
              "      <th></th>\n",
              "      <th>유형</th>\n",
              "      <th>2017년 1월</th>\n",
              "      <th>2017년 2월</th>\n",
              "      <th>2017년 3월</th>\n",
              "      <th>2017년 4월</th>\n",
              "      <th>2017년 5월</th>\n",
              "      <th>2017년 6월</th>\n",
              "      <th>2017년 7월</th>\n",
              "      <th>2017년 8월</th>\n",
              "      <th>2017년 9월</th>\n",
              "      <th>...</th>\n",
              "      <th>2021년 3월</th>\n",
              "      <th>2021년 4월</th>\n",
              "      <th>2021년 5월</th>\n",
              "      <th>2021년 6월</th>\n",
              "      <th>2021년 7월</th>\n",
              "      <th>2021년 8월</th>\n",
              "      <th>2021년 9월</th>\n",
              "      <th>2021년 10월</th>\n",
              "      <th>2021년 11월</th>\n",
              "      <th>2021년 12월</th>\n",
              "    </tr>\n",
              "  </thead>\n",
              "  <tbody>\n",
              "    <tr>\n",
              "      <th>0</th>\n",
              "      <td>사고건수</td>\n",
              "      <td>0</td>\n",
              "      <td>2</td>\n",
              "      <td>4</td>\n",
              "      <td>4</td>\n",
              "      <td>15</td>\n",
              "      <td>7</td>\n",
              "      <td>13</td>\n",
              "      <td>17</td>\n",
              "      <td>15</td>\n",
              "      <td>...</td>\n",
              "      <td>133</td>\n",
              "      <td>173</td>\n",
              "      <td>166</td>\n",
              "      <td>167</td>\n",
              "      <td>186</td>\n",
              "      <td>181</td>\n",
              "      <td>184</td>\n",
              "      <td>174</td>\n",
              "      <td>152</td>\n",
              "      <td>113</td>\n",
              "    </tr>\n",
              "    <tr>\n",
              "      <th>1</th>\n",
              "      <td>사망자수</td>\n",
              "      <td>0</td>\n",
              "      <td>0</td>\n",
              "      <td>0</td>\n",
              "      <td>0</td>\n",
              "      <td>0</td>\n",
              "      <td>1</td>\n",
              "      <td>1</td>\n",
              "      <td>1</td>\n",
              "      <td>0</td>\n",
              "      <td>...</td>\n",
              "      <td>1</td>\n",
              "      <td>0</td>\n",
              "      <td>0</td>\n",
              "      <td>2</td>\n",
              "      <td>2</td>\n",
              "      <td>1</td>\n",
              "      <td>2</td>\n",
              "      <td>4</td>\n",
              "      <td>2</td>\n",
              "      <td>2</td>\n",
              "    </tr>\n",
              "    <tr>\n",
              "      <th>2</th>\n",
              "      <td>부상자수</td>\n",
              "      <td>0</td>\n",
              "      <td>2</td>\n",
              "      <td>4</td>\n",
              "      <td>5</td>\n",
              "      <td>16</td>\n",
              "      <td>8</td>\n",
              "      <td>14</td>\n",
              "      <td>17</td>\n",
              "      <td>16</td>\n",
              "      <td>...</td>\n",
              "      <td>143</td>\n",
              "      <td>201</td>\n",
              "      <td>186</td>\n",
              "      <td>179</td>\n",
              "      <td>199</td>\n",
              "      <td>197</td>\n",
              "      <td>206</td>\n",
              "      <td>189</td>\n",
              "      <td>164</td>\n",
              "      <td>121</td>\n",
              "    </tr>\n",
              "  </tbody>\n",
              "</table>\n",
              "<p>3 rows × 61 columns</p>\n",
              "</div>\n",
              "      <button class=\"colab-df-convert\" onclick=\"convertToInteractive('df-e3bf76e5-b906-4488-babb-0e7c3949d15b')\"\n",
              "              title=\"Convert this dataframe to an interactive table.\"\n",
              "              style=\"display:none;\">\n",
              "        \n",
              "  <svg xmlns=\"http://www.w3.org/2000/svg\" height=\"24px\"viewBox=\"0 0 24 24\"\n",
              "       width=\"24px\">\n",
              "    <path d=\"M0 0h24v24H0V0z\" fill=\"none\"/>\n",
              "    <path d=\"M18.56 5.44l.94 2.06.94-2.06 2.06-.94-2.06-.94-.94-2.06-.94 2.06-2.06.94zm-11 1L8.5 8.5l.94-2.06 2.06-.94-2.06-.94L8.5 2.5l-.94 2.06-2.06.94zm10 10l.94 2.06.94-2.06 2.06-.94-2.06-.94-.94-2.06-.94 2.06-2.06.94z\"/><path d=\"M17.41 7.96l-1.37-1.37c-.4-.4-.92-.59-1.43-.59-.52 0-1.04.2-1.43.59L10.3 9.45l-7.72 7.72c-.78.78-.78 2.05 0 2.83L4 21.41c.39.39.9.59 1.41.59.51 0 1.02-.2 1.41-.59l7.78-7.78 2.81-2.81c.8-.78.8-2.07 0-2.86zM5.41 20L4 18.59l7.72-7.72 1.47 1.35L5.41 20z\"/>\n",
              "  </svg>\n",
              "      </button>\n",
              "      \n",
              "  <style>\n",
              "    .colab-df-container {\n",
              "      display:flex;\n",
              "      flex-wrap:wrap;\n",
              "      gap: 12px;\n",
              "    }\n",
              "\n",
              "    .colab-df-convert {\n",
              "      background-color: #E8F0FE;\n",
              "      border: none;\n",
              "      border-radius: 50%;\n",
              "      cursor: pointer;\n",
              "      display: none;\n",
              "      fill: #1967D2;\n",
              "      height: 32px;\n",
              "      padding: 0 0 0 0;\n",
              "      width: 32px;\n",
              "    }\n",
              "\n",
              "    .colab-df-convert:hover {\n",
              "      background-color: #E2EBFA;\n",
              "      box-shadow: 0px 1px 2px rgba(60, 64, 67, 0.3), 0px 1px 3px 1px rgba(60, 64, 67, 0.15);\n",
              "      fill: #174EA6;\n",
              "    }\n",
              "\n",
              "    [theme=dark] .colab-df-convert {\n",
              "      background-color: #3B4455;\n",
              "      fill: #D2E3FC;\n",
              "    }\n",
              "\n",
              "    [theme=dark] .colab-df-convert:hover {\n",
              "      background-color: #434B5C;\n",
              "      box-shadow: 0px 1px 3px 1px rgba(0, 0, 0, 0.15);\n",
              "      filter: drop-shadow(0px 1px 2px rgba(0, 0, 0, 0.3));\n",
              "      fill: #FFFFFF;\n",
              "    }\n",
              "  </style>\n",
              "\n",
              "      <script>\n",
              "        const buttonEl =\n",
              "          document.querySelector('#df-e3bf76e5-b906-4488-babb-0e7c3949d15b button.colab-df-convert');\n",
              "        buttonEl.style.display =\n",
              "          google.colab.kernel.accessAllowed ? 'block' : 'none';\n",
              "\n",
              "        async function convertToInteractive(key) {\n",
              "          const element = document.querySelector('#df-e3bf76e5-b906-4488-babb-0e7c3949d15b');\n",
              "          const dataTable =\n",
              "            await google.colab.kernel.invokeFunction('convertToInteractive',\n",
              "                                                     [key], {});\n",
              "          if (!dataTable) return;\n",
              "\n",
              "          const docLinkHtml = 'Like what you see? Visit the ' +\n",
              "            '<a target=\"_blank\" href=https://colab.research.google.com/notebooks/data_table.ipynb>data table notebook</a>'\n",
              "            + ' to learn more about interactive tables.';\n",
              "          element.innerHTML = '';\n",
              "          dataTable['output_type'] = 'display_data';\n",
              "          await google.colab.output.renderOutput(dataTable, element);\n",
              "          const docLink = document.createElement('div');\n",
              "          docLink.innerHTML = docLinkHtml;\n",
              "          element.appendChild(docLink);\n",
              "        }\n",
              "      </script>\n",
              "    </div>\n",
              "  </div>\n",
              "  "
            ]
          },
          "metadata": {},
          "execution_count": 9
        }
      ]
    },
    {
      "cell_type": "code",
      "source": [
        "df_pm_month_acci = df_pm_month.iloc[0:1, 1:]\n",
        "\n",
        "#per year accident\n",
        "month_2017_acci = df_pm_month_acci.iloc[:,0:12]\n",
        "month_2018_acci = df_pm_month_acci.iloc[:,12:24]\n",
        "month_2019_acci = df_pm_month_acci.iloc[:,24:36]\n",
        "month_2020_acci = df_pm_month_acci.iloc[:,36:48]\n",
        "month_2021_acci = df_pm_month_acci.iloc[:,48:60]\n",
        "\n",
        "#dataframe to list\n",
        "list_2017_acci = month_2017_acci.values.tolist()\n",
        "list_2018_acci = month_2018_acci.values.tolist()\n",
        "list_2019_acci = month_2019_acci.values.tolist()\n",
        "list_2020_acci = month_2020_acci.values.tolist()\n",
        "list_2021_acci = month_2021_acci.values.tolist()"
      ],
      "metadata": {
        "id": "GNS0AALj4GjT"
      },
      "execution_count": 10,
      "outputs": []
    },
    {
      "cell_type": "code",
      "source": [
        "import matplotlib.pyplot as plt\n",
        "import numpy as np"
      ],
      "metadata": {
        "id": "meb9dZZJ4s4q"
      },
      "execution_count": 11,
      "outputs": []
    },
    {
      "cell_type": "code",
      "source": [
        "#data\n",
        "x = [\"Jan\", \"Feb\", \"Mar\" ,\"Apr\", \"May\", \"Jun\", \"Jul\", \"Aug\", \"Sep\", \"Oct\", \"Nov\", \"Dec\"]\n",
        "y = np.vstack([list_2017_acci, list_2018_acci, list_2019_acci, list_2020_acci, list_2021_acci])\n",
        "labels = [\"2017\", \"2018\", \"2019\", \"2020\", \"2021\"]\n",
        "\n",
        "#사고건수 plot\n",
        "plt.figure(figsize = (8,5))\n",
        "plt.stackplot(x, y,labels = labels, colors = ['C47AFF', 'B9E0FF','8D9EFF','8D72E1','#6C4AB6'])\n",
        "plt.xlabel('month')\n",
        "plt.ylabel('Number of accidents')\n",
        "plt.title('Status of accidents by month')\n",
        "plt.legend(loc = 'upper left', frameon = True, shadow = True)\n",
        "plt.grid(linestyle = \"--\")\n",
        "plt.text('Oct', 300, '2021', rotation = -30)\n",
        "plt.text('Oct', 150, '2020', rotation = -30)\n",
        "plt.show()\n",
        "plt.tight_layout()\n",
        "\n",
        "plt.savefig('status of accidents by month.png')"
      ],
      "metadata": {
        "colab": {
          "base_uri": "https://localhost:8080/",
          "height": 368
        },
        "id": "ZPrZLzuc4PCX",
        "outputId": "763c5de2-95bc-420e-9442-a2710d3ef9cf"
      },
      "execution_count": 53,
      "outputs": [
        {
          "output_type": "display_data",
          "data": {
            "text/plain": [
              "<Figure size 576x360 with 1 Axes>"
            ],
            "image/png": "[encoded data removed]"
          },
          "metadata": {
            "needs_background": "light"
          }
        },
        {
          "output_type": "display_data",
          "data": {
            "text/plain": [
              "<Figure size 432x288 with 0 Axes>"
            ]
          },
          "metadata": {}
        }
      ]
    },
    {
      "cell_type": "code",
      "source": [
        "df_pm_month_death = df_pm_month.iloc[1:2, 1:]\n",
        "\n",
        "month_2017_death = df_pm_month_death.iloc[:,0:12]\n",
        "month_2018_death = df_pm_month_death.iloc[:,12:24]\n",
        "month_2019_death = df_pm_month_death.iloc[:,24:36]\n",
        "month_2020_death = df_pm_month_death.iloc[:,36:48]\n",
        "month_2021_death = df_pm_month_death.iloc[:,48:60]\n",
        "\n",
        "list_2017_death = month_2017_death.values.tolist()\n",
        "list_2018_death = month_2018_death.values.tolist()\n",
        "list_2019_death = month_2019_death.values.tolist()\n",
        "list_2020_death = month_2020_death.values.tolist()\n",
        "list_2021_death = month_2021_death.values.tolist()"
      ],
      "metadata": {
        "id": "TkFLa1GTDzaB"
      },
      "execution_count": 13,
      "outputs": []
    },
    {
      "cell_type": "code",
      "source": [
        "# 사망자수 plot -> 쓸모 없음\n",
        "x = [\"Jan\", \"Feb\", \"Mar\" ,\"Apr\", \"May\", \"Jun\", \"Jul\", \"Aug\", \"Sep\", \"Oct\", \"Nov\", \"Dec\"]\n",
        "y = np.vstack([list_2017_death, list_2018_death, list_2019_death, list_2020_death, list_2021_death])\n",
        "labels = [\"2017\", \"2018\", \"2019\", \"2020\", \"2021\"]\n",
        "\n",
        "plt.figure(figsize = (12,5))\n",
        "plt.stackplot(x, y,labels = labels, colors = ['oldlace', 'orange','lightsalmon','mistyrose','r'])\n",
        "plt.xlabel('month')\n",
        "plt.ylabel('Number of deaths')\n",
        "plt.title('Status of deaths by month')\n",
        "plt.legend(loc = 'upper left', frameon = True, shadow = True)\n",
        "plt.show()\n",
        "plt.tight_layout()"
      ],
      "metadata": {
        "colab": {
          "base_uri": "https://localhost:8080/",
          "height": 368
        },
        "id": "eO5mYhV_EWl_",
        "outputId": "639fb253-b290-412e-f273-081a76eb8b95"
      },
      "execution_count": 22,
      "outputs": [
        {
          "output_type": "display_data",
          "data": {
            "text/plain": [
              "<Figure size 864x360 with 1 Axes>"
            ],
            "image/png": "[encoded data removed]"
          },
          "metadata": {
            "needs_background": "light"
          }
        },
        {
          "output_type": "display_data",
          "data": {
            "text/plain": [
              "<Figure size 432x288 with 0 Axes>"
            ]
          },
          "metadata": {}
        }
      ]
    },
    {
      "cell_type": "code",
      "source": [
        "df_pm_month_injury = df_pm_month.iloc[2:3, 1:]\n",
        "\n",
        "month_2017_injury = df_pm_month_injury.iloc[:,0:12]\n",
        "month_2018_injury = df_pm_month_injury.iloc[:,12:24]\n",
        "month_2019_injury = df_pm_month_injury.iloc[:,24:36]\n",
        "month_2020_injury = df_pm_month_injury.iloc[:,36:48]\n",
        "month_2021_injury = df_pm_month_injury.iloc[:,48:60]\n",
        "\n",
        "list_2017_injury = month_2017_injury.values.tolist()\n",
        "list_2018_injury = month_2018_injury.values.tolist()\n",
        "list_2019_injury = month_2019_injury.values.tolist()\n",
        "list_2020_injury = month_2020_injury.values.tolist()\n",
        "list_2021_injury = month_2021_injury.values.tolist()"
      ],
      "metadata": {
        "id": "w74Kw5J8E7tS"
      },
      "execution_count": 15,
      "outputs": []
    },
    {
      "cell_type": "code",
      "source": [
        "#부상자수 plot\n",
        "x = [\"Jan\", \"Feb\", \"Mar\" ,\"Apr\", \"May\", \"Jun\", \"Jul\", \"Aug\", \"Sep\", \"Oct\", \"Nov\", \"Dec\"]\n",
        "y = np.vstack([list_2017_injury, list_2018_injury, list_2019_injury, list_2020_injury, list_2021_injury])\n",
        "labels = [\"2017\", \"2018\", \"2019\", \"2020\", \"2021\"]\n",
        "\n",
        "plt.figure(figsize = (10,5))\n",
        "plt.stackplot(x, y,labels = labels, colors = ['#DEF5E5', '#A0E4CB','#BCEAD5','#9ED5C5','#8EC3B0'])\n",
        "plt.xlabel('month')\n",
        "plt.ylabel('Number of injured')\n",
        "plt.title('Status of injured by month')\n",
        "plt.legend(loc = 'upper left', frameon = True, shadow = True)\n",
        "plt.grid(linestyle = '--')\n",
        "plt.show()\n",
        "plt.tight_layout()\n",
        "plt.savefig('status of injured by month.png')"
      ],
      "metadata": {
        "colab": {
          "base_uri": "https://localhost:8080/",
          "height": 368
        },
        "id": "Z-MT43-uEzom",
        "outputId": "2cf7b7cd-5941-4afb-b43d-6c9219b15e82"
      },
      "execution_count": 49,
      "outputs": [
        {
          "output_type": "display_data",
          "data": {
            "text/plain": [
              "<Figure size 720x360 with 1 Axes>"
            ],
            "image/png": "[encoded data removed]"
          },
          "metadata": {
            "needs_background": "light"
          }
        },
        {
          "output_type": "display_data",
          "data": {
            "text/plain": [
              "<Figure size 432x288 with 0 Axes>"
            ]
          },
          "metadata": {}
        }
      ]
    },
    {
      "cell_type": "code",
      "source": [
        "#연도별 데이터 추출\n",
        "df_pm_year = df_pm_month_year.loc[[0, 1, 2], [\"유형\",\"2017년\", \"2018년\", \"2019년\", \"2020년\", \"2021년\"]]\n",
        "df_pm_year"
      ],
      "metadata": {
        "colab": {
          "base_uri": "https://localhost:8080/",
          "height": 143
        },
        "id": "Uf__I20UtL0B",
        "outputId": "0a87bcab-7403-435d-9b5e-6f51716729f4"
      },
      "execution_count": 17,
      "outputs": [
        {
          "output_type": "execute_result",
          "data": {
            "text/plain": [
              "     유형  2017년  2018년  2019년  2020년  2021년\n",
              "0  사고건수    117    225    447    897   1735\n",
              "1  사망자수      4      4      8     10     19\n",
              "2  부상자수    124    238    473    985   1901"
            ],
            "text/html": [
              "\n",
              "  <div id=\"df-3ee32fb2-130b-4102-b028-04d2d4363149\">\n",
              "    <div class=\"colab-df-container\">\n",
              "      <div>\n",
              "<style scoped>\n",
              "    .dataframe tbody tr th:only-of-type {\n",
              "        vertical-align: middle;\n",
              "    }\n",
              "\n",
              "    .dataframe tbody tr th {\n",
              "        vertical-align: top;\n",
              "    }\n",
              "\n",
              "    .dataframe thead th {\n",
              "        text-align: right;\n",
              "    }\n",
              "</style>\n",
              "<table border=\"1\" class=\"dataframe\">\n",
              "  <thead>\n",
              "    <tr style=\"text-align: right;\">\n",
              "      <th></th>\n",
              "      <th>유형</th>\n",
              "      <th>2017년</th>\n",
              "      <th>2018년</th>\n",
              "      <th>2019년</th>\n",
              "      <th>2020년</th>\n",
              "      <th>2021년</th>\n",
              "    </tr>\n",
              "  </thead>\n",
              "  <tbody>\n",
              "    <tr>\n",
              "      <th>0</th>\n",
              "      <td>사고건수</td>\n",
              "      <td>117</td>\n",
              "      <td>225</td>\n",
              "      <td>447</td>\n",
              "      <td>897</td>\n",
              "      <td>1735</td>\n",
              "    </tr>\n",
              "    <tr>\n",
              "      <th>1</th>\n",
              "      <td>사망자수</td>\n",
              "      <td>4</td>\n",
              "      <td>4</td>\n",
              "      <td>8</td>\n",
              "      <td>10</td>\n",
              "      <td>19</td>\n",
              "    </tr>\n",
              "    <tr>\n",
              "      <th>2</th>\n",
              "      <td>부상자수</td>\n",
              "      <td>124</td>\n",
              "      <td>238</td>\n",
              "      <td>473</td>\n",
              "      <td>985</td>\n",
              "      <td>1901</td>\n",
              "    </tr>\n",
              "  </tbody>\n",
              "</table>\n",
              "</div>\n",
              "      <button class=\"colab-df-convert\" onclick=\"convertToInteractive('df-3ee32fb2-130b-4102-b028-04d2d4363149')\"\n",
              "              title=\"Convert this dataframe to an interactive table.\"\n",
              "              style=\"display:none;\">\n",
              "        \n",
              "  <svg xmlns=\"http://www.w3.org/2000/svg\" height=\"24px\"viewBox=\"0 0 24 24\"\n",
              "       width=\"24px\">\n",
              "    <path d=\"M0 0h24v24H0V0z\" fill=\"none\"/>\n",
              "    <path d=\"M18.56 5.44l.94 2.06.94-2.06 2.06-.94-2.06-.94-.94-2.06-.94 2.06-2.06.94zm-11 1L8.5 8.5l.94-2.06 2.06-.94-2.06-.94L8.5 2.5l-.94 2.06-2.06.94zm10 10l.94 2.06.94-2.06 2.06-.94-2.06-.94-.94-2.06-.94 2.06-2.06.94z\"/><path d=\"M17.41 7.96l-1.37-1.37c-.4-.4-.92-.59-1.43-.59-.52 0-1.04.2-1.43.59L10.3 9.45l-7.72 7.72c-.78.78-.78 2.05 0 2.83L4 21.41c.39.39.9.59 1.41.59.51 0 1.02-.2 1.41-.59l7.78-7.78 2.81-2.81c.8-.78.8-2.07 0-2.86zM5.41 20L4 18.59l7.72-7.72 1.47 1.35L5.41 20z\"/>\n",
              "  </svg>\n",
              "      </button>\n",
              "      \n",
              "  <style>\n",
              "    .colab-df-container {\n",
              "      display:flex;\n",
              "      flex-wrap:wrap;\n",
              "      gap: 12px;\n",
              "    }\n",
              "\n",
              "    .colab-df-convert {\n",
              "      background-color: #E8F0FE;\n",
              "      border: none;\n",
              "      border-radius: 50%;\n",
              "      cursor: pointer;\n",
              "      display: none;\n",
              "      fill: #1967D2;\n",
              "      height: 32px;\n",
              "      padding: 0 0 0 0;\n",
              "      width: 32px;\n",
              "    }\n",
              "\n",
              "    .colab-df-convert:hover {\n",
              "      background-color: #E2EBFA;\n",
              "      box-shadow: 0px 1px 2px rgba(60, 64, 67, 0.3), 0px 1px 3px 1px rgba(60, 64, 67, 0.15);\n",
              "      fill: #174EA6;\n",
              "    }\n",
              "\n",
              "    [theme=dark] .colab-df-convert {\n",
              "      background-color: #3B4455;\n",
              "      fill: #D2E3FC;\n",
              "    }\n",
              "\n",
              "    [theme=dark] .colab-df-convert:hover {\n",
              "      background-color: #434B5C;\n",
              "      box-shadow: 0px 1px 3px 1px rgba(0, 0, 0, 0.15);\n",
              "      filter: drop-shadow(0px 1px 2px rgba(0, 0, 0, 0.3));\n",
              "      fill: #FFFFFF;\n",
              "    }\n",
              "  </style>\n",
              "\n",
              "      <script>\n",
              "        const buttonEl =\n",
              "          document.querySelector('#df-3ee32fb2-130b-4102-b028-04d2d4363149 button.colab-df-convert');\n",
              "        buttonEl.style.display =\n",
              "          google.colab.kernel.accessAllowed ? 'block' : 'none';\n",
              "\n",
              "        async function convertToInteractive(key) {\n",
              "          const element = document.querySelector('#df-3ee32fb2-130b-4102-b028-04d2d4363149');\n",
              "          const dataTable =\n",
              "            await google.colab.kernel.invokeFunction('convertToInteractive',\n",
              "                                                     [key], {});\n",
              "          if (!dataTable) return;\n",
              "\n",
              "          const docLinkHtml = 'Like what you see? Visit the ' +\n",
              "            '<a target=\"_blank\" href=https://colab.research.google.com/notebooks/data_table.ipynb>data table notebook</a>'\n",
              "            + ' to learn more about interactive tables.';\n",
              "          element.innerHTML = '';\n",
              "          dataTable['output_type'] = 'display_data';\n",
              "          await google.colab.output.renderOutput(dataTable, element);\n",
              "          const docLink = document.createElement('div');\n",
              "          docLink.innerHTML = docLinkHtml;\n",
              "          element.appendChild(docLink);\n",
              "        }\n",
              "      </script>\n",
              "    </div>\n",
              "  </div>\n",
              "  "
            ]
          },
          "metadata": {},
          "execution_count": 17
        }
      ]
    },
    {
      "cell_type": "code",
      "source": [
        "#연도별 사고건수 plot\n",
        "x = [\"2017\", \"2018\", \"2019\", \"2020\", \"2021\"]\n",
        "y = df_pm_year.iloc[0:1, 1:].values.tolist()[0]\n",
        "\n",
        "plt.figure(figsize = (10,5))\n",
        "plt.bar(x, y, width = 1, edgecolor = \"white\", color = \"#B6E388\",  linewidth = 0.7)\n",
        "plt.xlabel('Year')\n",
        "plt.ylabel('Number of accidents')\n",
        "plt.title('Status of accidents by year')\n",
        "plt.show()\n",
        "plt.tight_layout()\n",
        "\n",
        "plt.savefig('status of accidents by year.png')"
      ],
      "metadata": {
        "colab": {
          "base_uri": "https://localhost:8080/",
          "height": 368
        },
        "id": "2PjcsfstJ0zj",
        "outputId": "3c703b7f-b621-49e3-b8c7-271856a772e5"
      },
      "execution_count": 50,
      "outputs": [
        {
          "output_type": "display_data",
          "data": {
            "text/plain": [
              "<Figure size 720x360 with 1 Axes>"
            ],
            "image/png": "[encoded data removed]"
          },
          "metadata": {
            "needs_background": "light"
          }
        },
        {
          "output_type": "display_data",
          "data": {
            "text/plain": [
              "<Figure size 432x288 with 0 Axes>"
            ]
          },
          "metadata": {}
        }
      ]
    },
    {
      "cell_type": "code",
      "source": [
        "#연도별 사망자수 plot\n",
        "x = [\"2017\", \"2018\", \"2019\", \"2020\", \"2021\"]\n",
        "y = df_pm_year.iloc[1:2, 1:].values.tolist()[0]\n",
        "\n",
        "plt.figure(figsize = (10,5))\n",
        "plt.bar(x, y, width = 1, edgecolor = \"white\", color = \"#FFE9B1\",  linewidth = 0.7)\n",
        "plt.xlabel('Year')\n",
        "plt.ylabel('Number of deaths')\n",
        "plt.title('Status of deaths by year')\n",
        "plt.show()\n",
        "plt.tight_layout()\n",
        "\n",
        "plt.savefig('status of deaths by year.png')"
      ],
      "metadata": {
        "colab": {
          "base_uri": "https://localhost:8080/",
          "height": 368
        },
        "id": "KyNsL5HFJhxl",
        "outputId": "76d8f698-5228-43d3-e52e-338c2e127078"
      },
      "execution_count": 51,
      "outputs": [
        {
          "output_type": "display_data",
          "data": {
            "text/plain": [
              "<Figure size 720x360 with 1 Axes>"
            ],
            "image/png": "[encoded data removed]"
          },
          "metadata": {
            "needs_background": "light"
          }
        },
        {
          "output_type": "display_data",
          "data": {
            "text/plain": [
              "<Figure size 432x288 with 0 Axes>"
            ]
          },
          "metadata": {}
        }
      ]
    },
    {
      "cell_type": "code",
      "source": [
        "#연도별 부상자수 plot\n",
        "x = [\"2017\", \"2018\", \"2019\", \"2020\", \"2021\"]\n",
        "y = df_pm_year.iloc[2:3, 1:].values.tolist()[0]\n",
        "\n",
        "plt.figure(figsize = (10, 5))\n",
        "plt.bar(x, y, width = 1, edgecolor = \"white\", color = \"#6D9886\", linewidth = 0.7)\n",
        "plt.xlabel('Year')\n",
        "plt.ylabel('Number of injured')\n",
        "plt.title('Status of injured by year')\n",
        "plt.show()\n",
        "plt.tight_layout()\n",
        "\n",
        "plt.savefig('status of injured by year.png')"
      ],
      "metadata": {
        "colab": {
          "base_uri": "https://localhost:8080/",
          "height": 368
        },
        "id": "pd4XF5fNGC_3",
        "outputId": "300007f7-11ff-4065-a6a5-39eaaf0ffc85"
      },
      "execution_count": 52,
      "outputs": [
        {
          "output_type": "display_data",
          "data": {
            "text/plain": [
              "<Figure size 720x360 with 1 Axes>"
            ],
            "image/png": "[encoded data removed]"
          },
          "metadata": {
            "needs_background": "light"
          }
        },
        {
          "output_type": "display_data",
          "data": {
            "text/plain": [
              "<Figure size 432x288 with 0 Axes>"
            ]
          },
          "metadata": {}
        }
      ]
    }
  ]
}