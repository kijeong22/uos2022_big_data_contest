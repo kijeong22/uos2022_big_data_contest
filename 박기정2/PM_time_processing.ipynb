{
  "cells": [
    {
      "cell_type": "code",
      "execution_count": 4,
      "metadata": {
        "id": "RSt1bsFat_de"
      },
      "outputs": [],
      "source": [
        "import pandas as pd"
      ]
    },
    {
      "cell_type": "code",
      "execution_count": 5,
      "metadata": {
        "id": "1ahn0mW1uAyG"
      },
      "outputs": [],
      "source": [
        "# local_file_path : 로컬 파일 경로 \n",
        "local_file_path = '../data/시간대별 교통사고.xls' \n",
        "colab_file_path =  '/content/gdrive/My Drive/빅데이터경진대회/시간대별 교통사고.xls' \n",
        "file_path = colab_file_path\n",
        "\n",
        "df1_raw = pd.read_excel('C:\\\\Users\\\\kijeong\\\\Desktop\\\\빅데이터 경진대회\\\\data\\\\사용할 데이터\\\\교통사고 관련 데이터\\\\시간대별 교통사고.xls')"
      ]
    },
    {
      "cell_type": "code",
      "execution_count": 6,
      "metadata": {
        "id": "uh9rpNwTuCSx"
      },
      "outputs": [],
      "source": [
        "df1_pm_raw = df1_raw.iloc[58:61, 2:]"
      ]
    },
    {
      "cell_type": "code",
      "execution_count": 7,
      "metadata": {
        "id": "GpBM8dnsuDTm"
      },
      "outputs": [],
      "source": [
        "df1_pm_raw.columns = [ \"유형\",\n",
        "                 \"2017년\", \"2017년 0~2시\", \"2017년 2~4시\", \"2017년 4~6시\", \"2017년 6~8시\",\n",
        "                 \"2017년 8~10시\", \"2017년 10~12시\", \"2017년 12~14시\", \"2017년 14~16시\", \n",
        "                 \"2017년 16~18시\", \"2017년 18~20시\", \"2017년 20~22시\",\"2017년 22~24시\", \n",
        "                 \"2018년\", \"2018년 0~2시\", \"2018년 2~4시\", \"2018년 4~6시\", \"2018년 6~8시\",\n",
        "                 \"2018년 8~10시\", \"2018년 10~12시\", \"2018년 12~14시\", \"2018년 14~16시\", \n",
        "                 \"2018년 16~18시\", \"2018년 18~20시\", \"2018년 20~22시\",\"2018년 22~24시\",\n",
        "                 \"2019년\", \"2019년 0~2시\", \"2019년 2~4시\", \"2019년 4~6시\", \"2019년 6~8시\",\n",
        "                 \"2019년 8~10시\", \"2019년 10~12시\", \"2019년 12~14시\", \"2019년 14~16시\", \n",
        "                 \"2019년 16~18시\", \"2019년 18~20시\", \"2019년 20~22시\",\"2019년 22~24시\",\n",
        "                 \"2020년\", \"2020년 0~2시\", \"2020년 2~4시\", \"2020년 4~6시\", \"2020년 6~8시\",\n",
        "                 \"2020년 8~10시\", \"2020년 10~12시\", \"2020년 12~14시\", \"2020년 14~16시\", \n",
        "                 \"2020년 16~18시\", \"2020년 18~20시\", \"2020년 20~22시\",\"2020년 22~24시\",\n",
        "                 \"2021년\", \"2021년 0~2시\", \"2021년 2~4시\", \"2021년 4~6시\", \"2021년 6~8시\",\n",
        "                 \"2021년 8~10시\", \"2021년 10~12시\", \"2021년 12~14시\", \"2021년 14~16시\", \n",
        "                 \"2021년 16~18시\", \"2021년 18~20시\", \"2021년 20~22시\",\"2021년 22~24시\"]"
      ]
    },
    {
      "cell_type": "code",
      "execution_count": 8,
      "metadata": {
        "colab": {
          "base_uri": "https://localhost:8080/",
          "height": 223
        },
        "id": "6YcoR5SCuEwG",
        "outputId": "4076178b-dea2-4bfb-ee33-3ab15ffc92d9"
      },
      "outputs": [
        {
          "data": {
            "text/html": [
              "<div>\n",
              "<style scoped>\n",
              "    .dataframe tbody tr th:only-of-type {\n",
              "        vertical-align: middle;\n",
              "    }\n",
              "\n",
              "    .dataframe tbody tr th {\n",
              "        vertical-align: top;\n",
              "    }\n",
              "\n",
              "    .dataframe thead th {\n",
              "        text-align: right;\n",
              "    }\n",
              "</style>\n",
              "<table border=\"1\" class=\"dataframe\">\n",
              "  <thead>\n",
              "    <tr style=\"text-align: right;\">\n",
              "      <th></th>\n",
              "      <th>유형</th>\n",
              "      <th>2017년 0~2시</th>\n",
              "      <th>2017년 2~4시</th>\n",
              "      <th>2017년 4~6시</th>\n",
              "      <th>2017년 6~8시</th>\n",
              "      <th>2017년 8~10시</th>\n",
              "      <th>2017년 10~12시</th>\n",
              "      <th>2017년 12~14시</th>\n",
              "      <th>2017년 14~16시</th>\n",
              "      <th>2017년 16~18시</th>\n",
              "      <th>...</th>\n",
              "      <th>2021년 4~6시</th>\n",
              "      <th>2021년 6~8시</th>\n",
              "      <th>2021년 8~10시</th>\n",
              "      <th>2021년 10~12시</th>\n",
              "      <th>2021년 12~14시</th>\n",
              "      <th>2021년 14~16시</th>\n",
              "      <th>2021년 16~18시</th>\n",
              "      <th>2021년 18~20시</th>\n",
              "      <th>2021년 20~22시</th>\n",
              "      <th>2021년 22~24시</th>\n",
              "    </tr>\n",
              "  </thead>\n",
              "  <tbody>\n",
              "    <tr>\n",
              "      <th>0</th>\n",
              "      <td>사고건수</td>\n",
              "      <td>6</td>\n",
              "      <td>8</td>\n",
              "      <td>1</td>\n",
              "      <td>7</td>\n",
              "      <td>20</td>\n",
              "      <td>10</td>\n",
              "      <td>6</td>\n",
              "      <td>10</td>\n",
              "      <td>8</td>\n",
              "      <td>...</td>\n",
              "      <td>28</td>\n",
              "      <td>52</td>\n",
              "      <td>135</td>\n",
              "      <td>122</td>\n",
              "      <td>142</td>\n",
              "      <td>185</td>\n",
              "      <td>250</td>\n",
              "      <td>247</td>\n",
              "      <td>204</td>\n",
              "      <td>232</td>\n",
              "    </tr>\n",
              "  </tbody>\n",
              "</table>\n",
              "<p>1 rows × 61 columns</p>\n",
              "</div>"
            ],
            "text/plain": [
              "     유형 2017년 0~2시 2017년 2~4시 2017년 4~6시 2017년 6~8시 2017년 8~10시 2017년 10~12시  \\\n",
              "0  사고건수          6          8          1          7          20           10   \n",
              "\n",
              "  2017년 12~14시 2017년 14~16시 2017년 16~18시  ... 2021년 4~6시 2021년 6~8시  \\\n",
              "0            6           10            8  ...         28         52   \n",
              "\n",
              "  2021년 8~10시 2021년 10~12시 2021년 12~14시 2021년 14~16시 2021년 16~18시  \\\n",
              "0         135          122          142          185          250   \n",
              "\n",
              "  2021년 18~20시 2021년 20~22시 2021년 22~24시  \n",
              "0          247          204          232  \n",
              "\n",
              "[1 rows x 61 columns]"
            ]
          },
          "execution_count": 8,
          "metadata": {},
          "output_type": "execute_result"
        }
      ],
      "source": [
        "df_pm_time = df1_pm_raw.reset_index(drop = True).replace('-', 0).drop(columns = [\"2017년\", \"2018년\",\"2019년\",\"2020년\",\"2021년\"])\n",
        "pm_time_acci = df_pm_time.iloc[0:1]\n",
        "pm_time_acci"
      ]
    },
    {
      "cell_type": "code",
      "execution_count": 9,
      "metadata": {
        "colab": {
          "base_uri": "https://localhost:8080/",
          "height": 142
        },
        "id": "OsFmgOWRQTo-",
        "outputId": "ccdaeb50-1f08-48c6-ae0c-90b99a2e7dde"
      },
      "outputs": [
        {
          "data": {
            "text/html": [
              "<div>\n",
              "<style scoped>\n",
              "    .dataframe tbody tr th:only-of-type {\n",
              "        vertical-align: middle;\n",
              "    }\n",
              "\n",
              "    .dataframe tbody tr th {\n",
              "        vertical-align: top;\n",
              "    }\n",
              "\n",
              "    .dataframe thead th {\n",
              "        text-align: right;\n",
              "    }\n",
              "</style>\n",
              "<table border=\"1\" class=\"dataframe\">\n",
              "  <thead>\n",
              "    <tr style=\"text-align: right;\">\n",
              "      <th></th>\n",
              "      <th>2017년 0~2시</th>\n",
              "      <th>2017년 2~4시</th>\n",
              "      <th>2017년 4~6시</th>\n",
              "      <th>2017년 6~8시</th>\n",
              "      <th>2017년 8~10시</th>\n",
              "      <th>2017년 10~12시</th>\n",
              "      <th>2017년 12~14시</th>\n",
              "      <th>2017년 14~16시</th>\n",
              "      <th>2017년 16~18시</th>\n",
              "      <th>2017년 18~20시</th>\n",
              "      <th>2017년 20~22시</th>\n",
              "      <th>2017년 22~24시</th>\n",
              "    </tr>\n",
              "  </thead>\n",
              "  <tbody>\n",
              "    <tr>\n",
              "      <th>0</th>\n",
              "      <td>6</td>\n",
              "      <td>8</td>\n",
              "      <td>1</td>\n",
              "      <td>7</td>\n",
              "      <td>20</td>\n",
              "      <td>10</td>\n",
              "      <td>6</td>\n",
              "      <td>10</td>\n",
              "      <td>8</td>\n",
              "      <td>15</td>\n",
              "      <td>13</td>\n",
              "      <td>13</td>\n",
              "    </tr>\n",
              "  </tbody>\n",
              "</table>\n",
              "</div>"
            ],
            "text/plain": [
              "  2017년 0~2시 2017년 2~4시 2017년 4~6시 2017년 6~8시 2017년 8~10시 2017년 10~12시  \\\n",
              "0          6          8          1          7          20           10   \n",
              "\n",
              "  2017년 12~14시 2017년 14~16시 2017년 16~18시 2017년 18~20시 2017년 20~22시  \\\n",
              "0            6           10            8           15           13   \n",
              "\n",
              "  2017년 22~24시  \n",
              "0           13  "
            ]
          },
          "execution_count": 9,
          "metadata": {},
          "output_type": "execute_result"
        }
      ],
      "source": [
        "df_pm_time_acci = df_pm_time.iloc[0:1, 1:]\n",
        "time_2017_acci = df_pm_time_acci.iloc[:,0:12]\n",
        "time_2017_acci"
      ]
    },
    {
      "cell_type": "code",
      "execution_count": 10,
      "metadata": {
        "id": "TDMP86MPK2Ad"
      },
      "outputs": [],
      "source": [
        "df_pm_time_acci = df_pm_time.iloc[0:1, 1:]\n",
        "\n",
        "#per year accident\n",
        "time_2017_acci = df_pm_time_acci.iloc[:,0:12]\n",
        "time_2018_acci = df_pm_time_acci.iloc[:,12:24]\n",
        "time_2019_acci = df_pm_time_acci.iloc[:,24:36]\n",
        "time_2020_acci = df_pm_time_acci.iloc[:,36:48]\n",
        "time_2021_acci = df_pm_time_acci.iloc[:,48:60]\n",
        "\n",
        "#dataframe to list\n",
        "list_2017_acci = time_2017_acci.values.tolist()\n",
        "list_2018_acci = time_2018_acci.values.tolist()\n",
        "list_2019_acci = time_2019_acci.values.tolist()\n",
        "list_2020_acci = time_2020_acci.values.tolist()\n",
        "list_2021_acci = time_2021_acci.values.tolist()"
      ]
    },
    {
      "cell_type": "code",
      "execution_count": 11,
      "metadata": {
        "id": "sGK1z82QQlkP"
      },
      "outputs": [],
      "source": [
        "import matplotlib.pyplot as plt\n",
        "import numpy as np"
      ]
    },
    {
      "cell_type": "code",
      "execution_count": 18,
      "metadata": {
        "colab": {
          "base_uri": "https://localhost:8080/",
          "height": 313
        },
        "id": "PIknTgMjQnvi",
        "outputId": "f08f6465-ced9-4d1c-f8c6-0fbe13b081be"
      },
      "outputs": [
        {
          "data": {
            "image/png": "[encoded data removed]",
            "text/plain": [
              "<Figure size 864x288 with 1 Axes>"
            ]
          },
          "metadata": {
            "needs_background": "light"
          },
          "output_type": "display_data"
        },
        {
          "data": {
            "text/plain": [
              "<Figure size 432x288 with 0 Axes>"
            ]
          },
          "metadata": {},
          "output_type": "display_data"
        }
      ],
      "source": [
        "#사고건수 plot\n",
        "x = [\"0~2h\", \"2~4h\", \"4~6h\", \"6~8h\", \"8~10h\", \"10~12h\", \"12~14h\", \"14~16h\", \n",
        "    \"16~18h\", \"18~20h\", \"20~22h\",\"22~24h\"]\n",
        "y = np.vstack([list_2017_acci, list_2018_acci, list_2019_acci, list_2020_acci, list_2021_acci])\n",
        "labels = [\"2017\", \"2018\", \"2019\", \"2020\", \"2021\"]\n",
        "\n",
        "plt.figure(figsize=(12,4))\n",
        "plt.stackplot(x, y,labels = labels, colors = ['#BFDE9C','#B3D98C','#98DDAB','#8CD581','#246B62'])\n",
        "\n",
        "plt.xlabel('hour')\n",
        "plt.ylabel('Number of accidents')\n",
        "plt.title('Status of accidents by hour')\n",
        "plt.legend(loc = 'upper left', frameon = True, shadow = True)\n",
        "plt.grid(linestyle = \"--\")\n",
        "plt.show()\n",
        "plt.tight_layout()\n",
        "\n",
        "plt.savefig('status of accidents by hour.png')s"
      ]
    }
  ],
  "metadata": {
    "colab": {
      "provenance": []
    },
    "kernelspec": {
      "display_name": "Python 3.9.13 64-bit (microsoft store)",
      "language": "python",
      "name": "python3"
    },
    "language_info": {
      "codemirror_mode": {
        "name": "ipython",
        "version": 3
      },
      "file_extension": ".py",
      "mimetype": "text/x-python",
      "name": "python",
      "nbconvert_exporter": "python",
      "pygments_lexer": "ipython3",
      "version": "3.9.13"
    },
    "vscode": {
      "interpreter": {
        "hash": "f5553ff4078853496111a953d0b6b5187eac92176c10c14d0049a26e9fdc8434"
      }
    }
  },
  "nbformat": 4,
  "nbformat_minor": 0
}
