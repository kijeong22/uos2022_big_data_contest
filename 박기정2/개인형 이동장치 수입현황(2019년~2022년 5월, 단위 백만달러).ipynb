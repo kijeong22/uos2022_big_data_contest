{
 "cells": [
  {
   "cell_type": "code",
   "execution_count": 6,
   "id": "c2eb6a8c",
   "metadata": {},
   "outputs": [],
   "source": [
    "import pandas as pd"
   ]
  },
  {
   "cell_type": "code",
   "execution_count": 7,
   "id": "8ec09d81",
   "metadata": {},
   "outputs": [],
   "source": [
    "raw_data=pd.read_csv('C:\\\\rawData\\\\개인형 이동장치 수입현황(2019년~2022년 5월, 단위 백만달러).csv',encoding='cp949')"
   ]
  },
  {
   "cell_type": "code",
   "execution_count": 8,
   "id": "e38d1527",
   "metadata": {},
   "outputs": [],
   "source": [
    "raw_data.columns=[\"종류\",\"비고\",\"2019년\",\"2020년\",\"2021년\",\"2022년 1~5월\"]"
   ]
  },
  {
   "cell_type": "code",
   "execution_count": 9,
   "id": "ca2b0aa4",
   "metadata": {},
   "outputs": [
    {
     "data": {
      "text/html": [
       "<div>\n",
       "<style scoped>\n",
       "    .dataframe tbody tr th:only-of-type {\n",
       "        vertical-align: middle;\n",
       "    }\n",
       "\n",
       "    .dataframe tbody tr th {\n",
       "        vertical-align: top;\n",
       "    }\n",
       "\n",
       "    .dataframe thead th {\n",
       "        text-align: right;\n",
       "    }\n",
       "</style>\n",
       "<table border=\"1\" class=\"dataframe\">\n",
       "  <thead>\n",
       "    <tr style=\"text-align: right;\">\n",
       "      <th></th>\n",
       "      <th>종류</th>\n",
       "      <th>비고</th>\n",
       "      <th>2019년</th>\n",
       "      <th>2020년</th>\n",
       "      <th>2021년</th>\n",
       "      <th>2022년 1~5월</th>\n",
       "    </tr>\n",
       "  </thead>\n",
       "  <tbody>\n",
       "    <tr>\n",
       "      <th>0</th>\n",
       "      <td>개인형 이동장치</td>\n",
       "      <td>금액</td>\n",
       "      <td>89.9</td>\n",
       "      <td>131.7</td>\n",
       "      <td>193.7</td>\n",
       "      <td>65.0</td>\n",
       "    </tr>\n",
       "    <tr>\n",
       "      <th>1</th>\n",
       "      <td>개인형 이동장치</td>\n",
       "      <td>증감률</td>\n",
       "      <td>25.4</td>\n",
       "      <td>46.5</td>\n",
       "      <td>47.0</td>\n",
       "      <td>33.3</td>\n",
       "    </tr>\n",
       "    <tr>\n",
       "      <th>2</th>\n",
       "      <td>개인형 이동장치</td>\n",
       "      <td>비중</td>\n",
       "      <td>100.0</td>\n",
       "      <td>100.0</td>\n",
       "      <td>100.0</td>\n",
       "      <td>100.0</td>\n",
       "    </tr>\n",
       "    <tr>\n",
       "      <th>3</th>\n",
       "      <td>전동킥보드</td>\n",
       "      <td>금액</td>\n",
       "      <td>61.0</td>\n",
       "      <td>89.2</td>\n",
       "      <td>111.6</td>\n",
       "      <td>33.9</td>\n",
       "    </tr>\n",
       "    <tr>\n",
       "      <th>4</th>\n",
       "      <td>전동킥보드</td>\n",
       "      <td>증감률</td>\n",
       "      <td>7.2</td>\n",
       "      <td>46.2</td>\n",
       "      <td>25.1</td>\n",
       "      <td>45.8</td>\n",
       "    </tr>\n",
       "    <tr>\n",
       "      <th>5</th>\n",
       "      <td>전동킥보드</td>\n",
       "      <td>비중</td>\n",
       "      <td>67.9</td>\n",
       "      <td>67.7</td>\n",
       "      <td>57.6</td>\n",
       "      <td>52.1</td>\n",
       "    </tr>\n",
       "    <tr>\n",
       "      <th>6</th>\n",
       "      <td>전기자전거</td>\n",
       "      <td>금액</td>\n",
       "      <td>28.9</td>\n",
       "      <td>42.5</td>\n",
       "      <td>82.0</td>\n",
       "      <td>31.1</td>\n",
       "    </tr>\n",
       "    <tr>\n",
       "      <th>7</th>\n",
       "      <td>전기자전거</td>\n",
       "      <td>증감률</td>\n",
       "      <td>95.4</td>\n",
       "      <td>47.2</td>\n",
       "      <td>93.0</td>\n",
       "      <td>11.0</td>\n",
       "    </tr>\n",
       "    <tr>\n",
       "      <th>8</th>\n",
       "      <td>전기자전거</td>\n",
       "      <td>비중</td>\n",
       "      <td>32.1</td>\n",
       "      <td>32.3</td>\n",
       "      <td>42.4</td>\n",
       "      <td>47.9</td>\n",
       "    </tr>\n",
       "  </tbody>\n",
       "</table>\n",
       "</div>"
      ],
      "text/plain": [
       "         종류   비고  2019년  2020년  2021년  2022년 1~5월\n",
       "0  개인형 이동장치   금액   89.9  131.7  193.7        65.0\n",
       "1  개인형 이동장치  증감률   25.4   46.5   47.0        33.3\n",
       "2  개인형 이동장치   비중  100.0  100.0  100.0       100.0\n",
       "3     전동킥보드   금액   61.0   89.2  111.6        33.9\n",
       "4     전동킥보드  증감률    7.2   46.2   25.1        45.8\n",
       "5     전동킥보드   비중   67.9   67.7   57.6        52.1\n",
       "6     전기자전거   금액   28.9   42.5   82.0        31.1\n",
       "7     전기자전거  증감률   95.4   47.2   93.0        11.0\n",
       "8     전기자전거   비중   32.1   32.3   42.4        47.9"
      ]
     },
     "execution_count": 9,
     "metadata": {},
     "output_type": "execute_result"
    }
   ],
   "source": [
    "raw_data"
   ]
  },
  {
   "cell_type": "code",
   "execution_count": 10,
   "id": "90639ab3",
   "metadata": {},
   "outputs": [],
   "source": [
    "pm_data_금액=raw_data[raw_data['비고']==\"금액\"]\n",
    "pm_data_금액=pm_data_금액[[\"종류\",\"2019년\",\"2020년\",\"2021년\"]]"
   ]
  },
  {
   "cell_type": "code",
   "execution_count": 11,
   "id": "de9edfc3",
   "metadata": {},
   "outputs": [
    {
     "data": {
      "text/html": [
       "<div>\n",
       "<style scoped>\n",
       "    .dataframe tbody tr th:only-of-type {\n",
       "        vertical-align: middle;\n",
       "    }\n",
       "\n",
       "    .dataframe tbody tr th {\n",
       "        vertical-align: top;\n",
       "    }\n",
       "\n",
       "    .dataframe thead th {\n",
       "        text-align: right;\n",
       "    }\n",
       "</style>\n",
       "<table border=\"1\" class=\"dataframe\">\n",
       "  <thead>\n",
       "    <tr style=\"text-align: right;\">\n",
       "      <th></th>\n",
       "      <th>종류</th>\n",
       "      <th>2019년</th>\n",
       "      <th>2020년</th>\n",
       "      <th>2021년</th>\n",
       "    </tr>\n",
       "  </thead>\n",
       "  <tbody>\n",
       "    <tr>\n",
       "      <th>0</th>\n",
       "      <td>개인형 이동장치</td>\n",
       "      <td>89.9</td>\n",
       "      <td>131.7</td>\n",
       "      <td>193.7</td>\n",
       "    </tr>\n",
       "    <tr>\n",
       "      <th>3</th>\n",
       "      <td>전동킥보드</td>\n",
       "      <td>61.0</td>\n",
       "      <td>89.2</td>\n",
       "      <td>111.6</td>\n",
       "    </tr>\n",
       "    <tr>\n",
       "      <th>6</th>\n",
       "      <td>전기자전거</td>\n",
       "      <td>28.9</td>\n",
       "      <td>42.5</td>\n",
       "      <td>82.0</td>\n",
       "    </tr>\n",
       "  </tbody>\n",
       "</table>\n",
       "</div>"
      ],
      "text/plain": [
       "         종류  2019년  2020년  2021년\n",
       "0  개인형 이동장치   89.9  131.7  193.7\n",
       "3     전동킥보드   61.0   89.2  111.6\n",
       "6     전기자전거   28.9   42.5   82.0"
      ]
     },
     "execution_count": 11,
     "metadata": {},
     "output_type": "execute_result"
    }
   ],
   "source": [
    "# 참고 : 단위는 백만달러\n",
    "pm_data_금액"
   ]
  },
  {
   "cell_type": "code",
   "execution_count": 12,
   "id": "7bc5073b",
   "metadata": {},
   "outputs": [],
   "source": [
    "pm_data_비중=raw_data[raw_data['비고']==\"비중\"]\n",
    "pm_data_비중=pm_data_비중[[\"종류\",\"2019년\",\"2020년\",\"2021년\",\"2022년 1~5월\"]]"
   ]
  },
  {
   "cell_type": "code",
   "execution_count": 13,
   "id": "19c98617",
   "metadata": {},
   "outputs": [
    {
     "data": {
      "text/html": [
       "<div>\n",
       "<style scoped>\n",
       "    .dataframe tbody tr th:only-of-type {\n",
       "        vertical-align: middle;\n",
       "    }\n",
       "\n",
       "    .dataframe tbody tr th {\n",
       "        vertical-align: top;\n",
       "    }\n",
       "\n",
       "    .dataframe thead th {\n",
       "        text-align: right;\n",
       "    }\n",
       "</style>\n",
       "<table border=\"1\" class=\"dataframe\">\n",
       "  <thead>\n",
       "    <tr style=\"text-align: right;\">\n",
       "      <th></th>\n",
       "      <th>종류</th>\n",
       "      <th>2019년</th>\n",
       "      <th>2020년</th>\n",
       "      <th>2021년</th>\n",
       "      <th>2022년 1~5월</th>\n",
       "    </tr>\n",
       "  </thead>\n",
       "  <tbody>\n",
       "    <tr>\n",
       "      <th>2</th>\n",
       "      <td>개인형 이동장치</td>\n",
       "      <td>100.0</td>\n",
       "      <td>100.0</td>\n",
       "      <td>100.0</td>\n",
       "      <td>100.0</td>\n",
       "    </tr>\n",
       "    <tr>\n",
       "      <th>5</th>\n",
       "      <td>전동킥보드</td>\n",
       "      <td>67.9</td>\n",
       "      <td>67.7</td>\n",
       "      <td>57.6</td>\n",
       "      <td>52.1</td>\n",
       "    </tr>\n",
       "    <tr>\n",
       "      <th>8</th>\n",
       "      <td>전기자전거</td>\n",
       "      <td>32.1</td>\n",
       "      <td>32.3</td>\n",
       "      <td>42.4</td>\n",
       "      <td>47.9</td>\n",
       "    </tr>\n",
       "  </tbody>\n",
       "</table>\n",
       "</div>"
      ],
      "text/plain": [
       "         종류  2019년  2020년  2021년  2022년 1~5월\n",
       "2  개인형 이동장치  100.0  100.0  100.0       100.0\n",
       "5     전동킥보드   67.9   67.7   57.6        52.1\n",
       "8     전기자전거   32.1   32.3   42.4        47.9"
      ]
     },
     "execution_count": 13,
     "metadata": {},
     "output_type": "execute_result"
    }
   ],
   "source": [
    "# 참고 : 단위는 백만달러\n",
    "pm_data_비중"
   ]
  },
  {
   "cell_type": "code",
   "execution_count": 14,
   "id": "8ec5c745",
   "metadata": {},
   "outputs": [
    {
     "data": {
      "text/html": [
       "<div>\n",
       "<style scoped>\n",
       "    .dataframe tbody tr th:only-of-type {\n",
       "        vertical-align: middle;\n",
       "    }\n",
       "\n",
       "    .dataframe tbody tr th {\n",
       "        vertical-align: top;\n",
       "    }\n",
       "\n",
       "    .dataframe thead th {\n",
       "        text-align: right;\n",
       "    }\n",
       "</style>\n",
       "<table border=\"1\" class=\"dataframe\">\n",
       "  <thead>\n",
       "    <tr style=\"text-align: right;\">\n",
       "      <th></th>\n",
       "      <th>0</th>\n",
       "      <th>3</th>\n",
       "      <th>6</th>\n",
       "    </tr>\n",
       "  </thead>\n",
       "  <tbody>\n",
       "    <tr>\n",
       "      <th>종류</th>\n",
       "      <td>개인형 이동장치</td>\n",
       "      <td>전동킥보드</td>\n",
       "      <td>전기자전거</td>\n",
       "    </tr>\n",
       "    <tr>\n",
       "      <th>2019년</th>\n",
       "      <td>89.9</td>\n",
       "      <td>61.0</td>\n",
       "      <td>28.9</td>\n",
       "    </tr>\n",
       "    <tr>\n",
       "      <th>2020년</th>\n",
       "      <td>131.7</td>\n",
       "      <td>89.2</td>\n",
       "      <td>42.5</td>\n",
       "    </tr>\n",
       "    <tr>\n",
       "      <th>2021년</th>\n",
       "      <td>193.7</td>\n",
       "      <td>111.6</td>\n",
       "      <td>82.0</td>\n",
       "    </tr>\n",
       "  </tbody>\n",
       "</table>\n",
       "</div>"
      ],
      "text/plain": [
       "              0      3      6\n",
       "종류     개인형 이동장치  전동킥보드  전기자전거\n",
       "2019년      89.9   61.0   28.9\n",
       "2020년     131.7   89.2   42.5\n",
       "2021년     193.7  111.6   82.0"
      ]
     },
     "execution_count": 14,
     "metadata": {},
     "output_type": "execute_result"
    }
   ],
   "source": [
    "pm_data_금액.T"
   ]
  },
  {
   "cell_type": "code",
   "execution_count": 15,
   "id": "1d60835e",
   "metadata": {},
   "outputs": [],
   "source": [
    "pm_transpose=pm_data_금액.T"
   ]
  },
  {
   "cell_type": "code",
   "execution_count": 16,
   "id": "851ff070",
   "metadata": {},
   "outputs": [
    {
     "data": {
      "text/html": [
       "<div>\n",
       "<style scoped>\n",
       "    .dataframe tbody tr th:only-of-type {\n",
       "        vertical-align: middle;\n",
       "    }\n",
       "\n",
       "    .dataframe tbody tr th {\n",
       "        vertical-align: top;\n",
       "    }\n",
       "\n",
       "    .dataframe thead th {\n",
       "        text-align: right;\n",
       "    }\n",
       "</style>\n",
       "<table border=\"1\" class=\"dataframe\">\n",
       "  <thead>\n",
       "    <tr style=\"text-align: right;\">\n",
       "      <th></th>\n",
       "      <th>0</th>\n",
       "      <th>3</th>\n",
       "      <th>6</th>\n",
       "    </tr>\n",
       "  </thead>\n",
       "  <tbody>\n",
       "    <tr>\n",
       "      <th>종류</th>\n",
       "      <td>개인형 이동장치</td>\n",
       "      <td>전동킥보드</td>\n",
       "      <td>전기자전거</td>\n",
       "    </tr>\n",
       "    <tr>\n",
       "      <th>2019년</th>\n",
       "      <td>89.9</td>\n",
       "      <td>61.0</td>\n",
       "      <td>28.9</td>\n",
       "    </tr>\n",
       "    <tr>\n",
       "      <th>2020년</th>\n",
       "      <td>131.7</td>\n",
       "      <td>89.2</td>\n",
       "      <td>42.5</td>\n",
       "    </tr>\n",
       "    <tr>\n",
       "      <th>2021년</th>\n",
       "      <td>193.7</td>\n",
       "      <td>111.6</td>\n",
       "      <td>82.0</td>\n",
       "    </tr>\n",
       "  </tbody>\n",
       "</table>\n",
       "</div>"
      ],
      "text/plain": [
       "              0      3      6\n",
       "종류     개인형 이동장치  전동킥보드  전기자전거\n",
       "2019년      89.9   61.0   28.9\n",
       "2020년     131.7   89.2   42.5\n",
       "2021년     193.7  111.6   82.0"
      ]
     },
     "execution_count": 16,
     "metadata": {},
     "output_type": "execute_result"
    }
   ],
   "source": [
    "pm_transpose"
   ]
  },
  {
   "cell_type": "code",
   "execution_count": 17,
   "id": "9405e597",
   "metadata": {},
   "outputs": [],
   "source": [
    "pm_transpose.columns=[\"개인형 이동장치\", \"전동킥보드\", \"전기자전거\"]"
   ]
  },
  {
   "cell_type": "code",
   "execution_count": 18,
   "id": "72a67c40",
   "metadata": {},
   "outputs": [],
   "source": [
    "pm_transpose=pm_transpose[1:4]"
   ]
  },
  {
   "cell_type": "code",
   "execution_count": 19,
   "id": "938ad584",
   "metadata": {},
   "outputs": [
    {
     "data": {
      "text/html": [
       "<div>\n",
       "<style scoped>\n",
       "    .dataframe tbody tr th:only-of-type {\n",
       "        vertical-align: middle;\n",
       "    }\n",
       "\n",
       "    .dataframe tbody tr th {\n",
       "        vertical-align: top;\n",
       "    }\n",
       "\n",
       "    .dataframe thead th {\n",
       "        text-align: right;\n",
       "    }\n",
       "</style>\n",
       "<table border=\"1\" class=\"dataframe\">\n",
       "  <thead>\n",
       "    <tr style=\"text-align: right;\">\n",
       "      <th></th>\n",
       "      <th>개인형 이동장치</th>\n",
       "      <th>전동킥보드</th>\n",
       "      <th>전기자전거</th>\n",
       "    </tr>\n",
       "  </thead>\n",
       "  <tbody>\n",
       "    <tr>\n",
       "      <th>2019년</th>\n",
       "      <td>89.9</td>\n",
       "      <td>61.0</td>\n",
       "      <td>28.9</td>\n",
       "    </tr>\n",
       "    <tr>\n",
       "      <th>2020년</th>\n",
       "      <td>131.7</td>\n",
       "      <td>89.2</td>\n",
       "      <td>42.5</td>\n",
       "    </tr>\n",
       "    <tr>\n",
       "      <th>2021년</th>\n",
       "      <td>193.7</td>\n",
       "      <td>111.6</td>\n",
       "      <td>82.0</td>\n",
       "    </tr>\n",
       "  </tbody>\n",
       "</table>\n",
       "</div>"
      ],
      "text/plain": [
       "      개인형 이동장치  전동킥보드 전기자전거\n",
       "2019년     89.9   61.0  28.9\n",
       "2020년    131.7   89.2  42.5\n",
       "2021년    193.7  111.6  82.0"
      ]
     },
     "execution_count": 19,
     "metadata": {},
     "output_type": "execute_result"
    }
   ],
   "source": [
    "pm_transpose"
   ]
  },
  {
   "cell_type": "code",
   "execution_count": 20,
   "id": "1958e9e9",
   "metadata": {},
   "outputs": [
    {
     "data": {
      "text/html": [
       "<div>\n",
       "<style scoped>\n",
       "    .dataframe tbody tr th:only-of-type {\n",
       "        vertical-align: middle;\n",
       "    }\n",
       "\n",
       "    .dataframe tbody tr th {\n",
       "        vertical-align: top;\n",
       "    }\n",
       "\n",
       "    .dataframe thead th {\n",
       "        text-align: right;\n",
       "    }\n",
       "</style>\n",
       "<table border=\"1\" class=\"dataframe\">\n",
       "  <thead>\n",
       "    <tr style=\"text-align: right;\">\n",
       "      <th></th>\n",
       "      <th>개인형 이동장치</th>\n",
       "      <th>전동킥보드</th>\n",
       "      <th>전기자전거</th>\n",
       "    </tr>\n",
       "  </thead>\n",
       "  <tbody>\n",
       "    <tr>\n",
       "      <th>2019년</th>\n",
       "      <td>89.9</td>\n",
       "      <td>61.0</td>\n",
       "      <td>28.9</td>\n",
       "    </tr>\n",
       "    <tr>\n",
       "      <th>2020년</th>\n",
       "      <td>131.7</td>\n",
       "      <td>89.2</td>\n",
       "      <td>42.5</td>\n",
       "    </tr>\n",
       "    <tr>\n",
       "      <th>2021년</th>\n",
       "      <td>193.7</td>\n",
       "      <td>111.6</td>\n",
       "      <td>82.0</td>\n",
       "    </tr>\n",
       "  </tbody>\n",
       "</table>\n",
       "</div>"
      ],
      "text/plain": [
       "      개인형 이동장치  전동킥보드 전기자전거\n",
       "2019년     89.9   61.0  28.9\n",
       "2020년    131.7   89.2  42.5\n",
       "2021년    193.7  111.6  82.0"
      ]
     },
     "execution_count": 20,
     "metadata": {},
     "output_type": "execute_result"
    }
   ],
   "source": [
    "pm = pm_transpose\n",
    "pm"
   ]
  },
  {
   "cell_type": "code",
   "execution_count": 21,
   "id": "5b5e1473",
   "metadata": {},
   "outputs": [],
   "source": [
    "from matplotlib import font_manager, rc\n",
    "font_path = \"C:/Windows/Fonts/NGULIM.TTF\"\n",
    "font = font_manager.FontProperties(fname=font_path).get_name()\n",
    "rc('font', family=font)"
   ]
  },
  {
   "cell_type": "code",
   "execution_count": 23,
   "id": "86516152",
   "metadata": {
    "scrolled": true
   },
   "outputs": [
    {
     "data": {
      "text/plain": [
       "<AxesSubplot: >"
      ]
     },
     "execution_count": 23,
     "metadata": {},
     "output_type": "execute_result"
    },
    {
     "data": {
      "image/png": "[encoded data removed]",
      "text/plain": [
       "<Figure size 1500x1000 with 1 Axes>"
      ]
     },
     "metadata": {},
     "output_type": "display_data"
    }
   ],
   "source": [
    "import pandas as pd\n",
    "pm_transpose.plot(kind=\"bar\",figsize=(15,10),stacked=True)"
   ]
  },
  {
   "cell_type": "code",
   "execution_count": 24,
   "id": "555c20cc",
   "metadata": {},
   "outputs": [],
   "source": [
    "import numpy as np\n",
    "import matplotlib.pyplot as plt"
   ]
  },
  {
   "cell_type": "code",
   "execution_count": 31,
   "id": "b293aac3",
   "metadata": {},
   "outputs": [
    {
     "data": {
      "text/html": [
       "<div>\n",
       "<style scoped>\n",
       "    .dataframe tbody tr th:only-of-type {\n",
       "        vertical-align: middle;\n",
       "    }\n",
       "\n",
       "    .dataframe tbody tr th {\n",
       "        vertical-align: top;\n",
       "    }\n",
       "\n",
       "    .dataframe thead th {\n",
       "        text-align: right;\n",
       "    }\n",
       "</style>\n",
       "<table border=\"1\" class=\"dataframe\">\n",
       "  <thead>\n",
       "    <tr style=\"text-align: right;\">\n",
       "      <th></th>\n",
       "      <th>개인형 이동장치</th>\n",
       "      <th>전동킥보드</th>\n",
       "      <th>전기자전거</th>\n",
       "    </tr>\n",
       "  </thead>\n",
       "  <tbody>\n",
       "    <tr>\n",
       "      <th>2019</th>\n",
       "      <td>89.9</td>\n",
       "      <td>61.0</td>\n",
       "      <td>28.9</td>\n",
       "    </tr>\n",
       "    <tr>\n",
       "      <th>2020</th>\n",
       "      <td>131.7</td>\n",
       "      <td>89.2</td>\n",
       "      <td>42.5</td>\n",
       "    </tr>\n",
       "    <tr>\n",
       "      <th>2021</th>\n",
       "      <td>193.7</td>\n",
       "      <td>111.6</td>\n",
       "      <td>82.0</td>\n",
       "    </tr>\n",
       "  </tbody>\n",
       "</table>\n",
       "</div>"
      ],
      "text/plain": [
       "     개인형 이동장치  전동킥보드 전기자전거\n",
       "2019     89.9   61.0  28.9\n",
       "2020    131.7   89.2  42.5\n",
       "2021    193.7  111.6  82.0"
      ]
     },
     "execution_count": 31,
     "metadata": {},
     "output_type": "execute_result"
    }
   ],
   "source": [
    "pm.index=['2019','2020','2021']\n",
    "pm"
   ]
  },
  {
   "cell_type": "code",
   "execution_count": 32,
   "id": "86045941",
   "metadata": {},
   "outputs": [],
   "source": [
    "import matplotlib as mpl\n",
    "mpl.rcParams['font.family'] = 'NanumSquare Neo Regular'\n",
    "mpl.rcParams['font.size'] = 12"
   ]
  },
  {
   "cell_type": "code",
   "execution_count": 37,
   "id": "110b64b5",
   "metadata": {},
   "outputs": [
    {
     "data": {
      "image/png": "[encoded data removed]",
      "text/plain": [
       "<Figure size 1200x800 with 1 Axes>"
      ]
     },
     "metadata": {},
     "output_type": "display_data"
    }
   ],
   "source": [
    "fig, ax = plt.subplots(1,1,figsize = (12,8))\n",
    "plt.title('개인형 이동장치 수입현황',  fontsize=25, color='white')\n",
    "plt.ylabel('수입액 (단위 : 백만달러)', fontsize=18, color='white')\n",
    "plt.xlabel('연도', fontsize=18, color='white')\n",
    "\n",
    "plt.plot(pm['개인형 이동장치'], color='#B5A767', linestyle='-', marker='o', markersize=8)\n",
    "plt.plot(pm['전동킥보드'], color='#E8D684', linestyle='-', marker='o', markersize=8)\n",
    "plt.plot(pm['전기자전거'], color='#69665B', linestyle='-', marker='o', markersize=8)\n",
    "\n",
    "ax.tick_params(axis='x', colors='white', grid_color='white', length=8, labelsize=12)\n",
    "ax.tick_params(axis='y', colors='white', grid_color='white', length=8, labelsize=12)\n",
    "\n",
    "ax.spines[\"top\"].set_visible(False)\n",
    "#ax.spines[\"bottom\"].set_visible(False)\n",
    "ax.spines[\"bottom\"].set_color('w')\n",
    "ax.spines[\"right\"].set_visible(False)\n",
    "#ax.spines[\"left\"].set_visible(False)\n",
    "ax.spines[\"left\"].set_color('w')\n",
    "\n",
    "ax.legend(pm.columns.tolist(), fontsize='12', bbox_to_anchor=(0.25,0.98))\n",
    "fig.patch.set_facecolor('#141414')\n",
    "ax.set_facecolor('#141414')\n",
    "\n",
    "plt.show()\n"
   ]
  },
  {
   "cell_type": "code",
   "execution_count": 27,
   "id": "25491976",
   "metadata": {},
   "outputs": [],
   "source": [
    "import plotly.graph_objects as go\n",
    "import numpy as np\n",
    "import matplotlib.ticker as ticker\n",
    "\n",
    "labels = ['전기자전거', '전동킥보드', '개인형 이동장치']\n",
    "colors = ['#69665B', '#E8D684', '#B5A767']\n",
    "\n",
    "mode_size = [8, 8, 8]\n",
    "line_size = [2, 2, 2]\n",
    "\n",
    "x_data = np.vstack((np.arange(2019, 2022),)*3)\n",
    "y_data = np.array([\n",
    "    [28.9,42.5,82.0],\n",
    "    [61.0,89.2,111.6],\n",
    "    [89.9,131.7,193.7],\n",
    "])"
   ]
  },
  {
   "cell_type": "code",
   "execution_count": 28,
   "id": "59475e32",
   "metadata": {},
   "outputs": [
    {
     "data": {
      "application/vnd.plotly.v1+json": {
       "config": {
        "plotlyServerURL": "https://plot.ly"
       },
       "data": [
        {
         "connectgaps": true,
         "line": {
          "color": "#69665B",
          "width": 2
         },
         "mode": "lines",
         "name": "전기자전거",
         "type": "scatter",
         "x": [
          2019,
          2020,
          2021
         ],
         "y": [
          28.9,
          42.5,
          82
         ]
        },
        {
         "marker": {
          "color": "#69665B",
          "size": 8
         },
         "mode": "markers",
         "type": "scatter",
         "x": [
          2019,
          2021
         ],
         "y": [
          28.9,
          82
         ]
        },
        {
         "connectgaps": true,
         "line": {
          "color": "#E8D684",
          "width": 2
         },
         "mode": "lines",
         "name": "전동킥보드",
         "type": "scatter",
         "x": [
          2019,
          2020,
          2021
         ],
         "y": [
          61,
          89.2,
          111.6
         ]
        },
        {
         "marker": {
          "color": "#E8D684",
          "size": 8
         },
         "mode": "markers",
         "type": "scatter",
         "x": [
          2019,
          2021
         ],
         "y": [
          61,
          111.6
         ]
        },
        {
         "connectgaps": true,
         "line": {
          "color": "#B5A767",
          "width": 2
         },
         "mode": "lines",
         "name": "개인형 이동장치",
         "type": "scatter",
         "x": [
          2019,
          2020,
          2021
         ],
         "y": [
          89.9,
          131.7,
          193.7
         ]
        },
        {
         "marker": {
          "color": "#B5A767",
          "size": 8
         },
         "mode": "markers",
         "type": "scatter",
         "x": [
          2019,
          2021
         ],
         "y": [
          89.9,
          193.7
         ]
        }
       ],
       "layout": {
        "annotations": [
         {
          "font": {
           "color": "#f2f2f2",
           "size": 16
          },
          "showarrow": false,
          "text": "전기자전거 28.9",
          "x": 0.05,
          "xanchor": "right",
          "xref": "paper",
          "y": 28.9,
          "yanchor": "middle"
         },
         {
          "font": {
           "color": "#f2f2f2",
           "size": 16
          },
          "showarrow": false,
          "text": "82.0",
          "x": 0.95,
          "xanchor": "left",
          "xref": "paper",
          "y": 82,
          "yanchor": "middle"
         },
         {
          "font": {
           "color": "#f2f2f2",
           "size": 16
          },
          "showarrow": false,
          "text": "전동킥보드 61.0",
          "x": 0.05,
          "xanchor": "right",
          "xref": "paper",
          "y": 61,
          "yanchor": "middle"
         },
         {
          "font": {
           "color": "#f2f2f2",
           "size": 16
          },
          "showarrow": false,
          "text": "111.6",
          "x": 0.95,
          "xanchor": "left",
          "xref": "paper",
          "y": 111.6,
          "yanchor": "middle"
         },
         {
          "font": {
           "color": "#f2f2f2",
           "size": 16
          },
          "showarrow": false,
          "text": "개인형 이동장치 89.9",
          "x": 0.05,
          "xanchor": "right",
          "xref": "paper",
          "y": 89.9,
          "yanchor": "middle"
         },
         {
          "font": {
           "color": "#f2f2f2",
           "size": 16
          },
          "showarrow": false,
          "text": "193.7",
          "x": 0.95,
          "xanchor": "left",
          "xref": "paper",
          "y": 193.7,
          "yanchor": "middle"
         },
         {
          "font": {
           "color": "#f2f2f2",
           "size": 25
          },
          "showarrow": false,
          "text": "<개인형 이동장치 수입 현황>",
          "x": 0.025,
          "xanchor": "left",
          "xref": "paper",
          "y": 1.25,
          "yanchor": "top",
          "yref": "paper"
         },
         {
          "font": {
           "color": "#f2f2f2",
           "size": 15
          },
          "showarrow": false,
          "text": "단위 : 백만달러 ",
          "x": 0.5,
          "xanchor": "center",
          "xref": "paper",
          "y": -0.2,
          "yanchor": "bottom",
          "yref": "paper"
         }
        ],
        "autosize": false,
        "margin": {
         "autoexpand": false,
         "l": 160,
         "r": 20,
         "t": 110
        },
        "paper_bgcolor": "#080808",
        "plot_bgcolor": "#080808",
        "showlegend": false,
        "template": {
         "data": {
          "bar": [
           {
            "error_x": {
             "color": "#2a3f5f"
            },
            "error_y": {
             "color": "#2a3f5f"
            },
            "marker": {
             "line": {
              "color": "#E5ECF6",
              "width": 0.5
             },
             "pattern": {
              "fillmode": "overlay",
              "size": 10,
              "solidity": 0.2
             }
            },
            "type": "bar"
           }
          ],
          "barpolar": [
           {
            "marker": {
             "line": {
              "color": "#E5ECF6",
              "width": 0.5
             },
             "pattern": {
              "fillmode": "overlay",
              "size": 10,
              "solidity": 0.2
             }
            },
            "type": "barpolar"
           }
          ],
          "carpet": [
           {
            "aaxis": {
             "endlinecolor": "#2a3f5f",
             "gridcolor": "white",
             "linecolor": "white",
             "minorgridcolor": "white",
             "startlinecolor": "#2a3f5f"
            },
            "baxis": {
             "endlinecolor": "#2a3f5f",
             "gridcolor": "white",
             "linecolor": "white",
             "minorgridcolor": "white",
             "startlinecolor": "#2a3f5f"
            },
            "type": "carpet"
           }
          ],
          "choropleth": [
           {
            "colorbar": {
             "outlinewidth": 0,
             "ticks": ""
            },
            "type": "choropleth"
           }
          ],
          "contour": [
           {
            "colorbar": {
             "outlinewidth": 0,
             "ticks": ""
            },
            "colorscale": [
             [
              0,
              "#0d0887"
             ],
             [
              0.1111111111111111,
              "#46039f"
             ],
             [
              0.2222222222222222,
              "#7201a8"
             ],
             [
              0.3333333333333333,
              "#9c179e"
             ],
             [
              0.4444444444444444,
              "#bd3786"
             ],
             [
              0.5555555555555556,
              "#d8576b"
             ],
             [
              0.6666666666666666,
              "#ed7953"
             ],
             [
              0.7777777777777778,
              "#fb9f3a"
             ],
             [
              0.8888888888888888,
              "#fdca26"
             ],
             [
              1,
              "#f0f921"
             ]
            ],
            "type": "contour"
           }
          ],
          "contourcarpet": [
           {
            "colorbar": {
             "outlinewidth": 0,
             "ticks": ""
            },
            "type": "contourcarpet"
           }
          ],
          "heatmap": [
           {
            "colorbar": {
             "outlinewidth": 0,
             "ticks": ""
            },
            "colorscale": [
             [
              0,
              "#0d0887"
             ],
             [
              0.1111111111111111,
              "#46039f"
             ],
             [
              0.2222222222222222,
              "#7201a8"
             ],
             [
              0.3333333333333333,
              "#9c179e"
             ],
             [
              0.4444444444444444,
              "#bd3786"
             ],
             [
              0.5555555555555556,
              "#d8576b"
             ],
             [
              0.6666666666666666,
              "#ed7953"
             ],
             [
              0.7777777777777778,
              "#fb9f3a"
             ],
             [
              0.8888888888888888,
              "#fdca26"
             ],
             [
              1,
              "#f0f921"
             ]
            ],
            "type": "heatmap"
           }
          ],
          "heatmapgl": [
           {
            "colorbar": {
             "outlinewidth": 0,
             "ticks": ""
            },
            "colorscale": [
             [
              0,
              "#0d0887"
             ],
             [
              0.1111111111111111,
              "#46039f"
             ],
             [
              0.2222222222222222,
              "#7201a8"
             ],
             [
              0.3333333333333333,
              "#9c179e"
             ],
             [
              0.4444444444444444,
              "#bd3786"
             ],
             [
              0.5555555555555556,
              "#d8576b"
             ],
             [
              0.6666666666666666,
              "#ed7953"
             ],
             [
              0.7777777777777778,
              "#fb9f3a"
             ],
             [
              0.8888888888888888,
              "#fdca26"
             ],
             [
              1,
              "#f0f921"
             ]
            ],
            "type": "heatmapgl"
           }
          ],
          "histogram": [
           {
            "marker": {
             "pattern": {
              "fillmode": "overlay",
              "size": 10,
              "solidity": 0.2
             }
            },
            "type": "histogram"
           }
          ],
          "histogram2d": [
           {
            "colorbar": {
             "outlinewidth": 0,
             "ticks": ""
            },
            "colorscale": [
             [
              0,
              "#0d0887"
             ],
             [
              0.1111111111111111,
              "#46039f"
             ],
             [
              0.2222222222222222,
              "#7201a8"
             ],
             [
              0.3333333333333333,
              "#9c179e"
             ],
             [
              0.4444444444444444,
              "#bd3786"
             ],
             [
              0.5555555555555556,
              "#d8576b"
             ],
             [
              0.6666666666666666,
              "#ed7953"
             ],
             [
              0.7777777777777778,
              "#fb9f3a"
             ],
             [
              0.8888888888888888,
              "#fdca26"
             ],
             [
              1,
              "#f0f921"
             ]
            ],
            "type": "histogram2d"
           }
          ],
          "histogram2dcontour": [
           {
            "colorbar": {
             "outlinewidth": 0,
             "ticks": ""
            },
            "colorscale": [
             [
              0,
              "#0d0887"
             ],
             [
              0.1111111111111111,
              "#46039f"
             ],
             [
              0.2222222222222222,
              "#7201a8"
             ],
             [
              0.3333333333333333,
              "#9c179e"
             ],
             [
              0.4444444444444444,
              "#bd3786"
             ],
             [
              0.5555555555555556,
              "#d8576b"
             ],
             [
              0.6666666666666666,
              "#ed7953"
             ],
             [
              0.7777777777777778,
              "#fb9f3a"
             ],
             [
              0.8888888888888888,
              "#fdca26"
             ],
             [
              1,
              "#f0f921"
             ]
            ],
            "type": "histogram2dcontour"
           }
          ],
          "mesh3d": [
           {
            "colorbar": {
             "outlinewidth": 0,
             "ticks": ""
            },
            "type": "mesh3d"
           }
          ],
          "parcoords": [
           {
            "line": {
             "colorbar": {
              "outlinewidth": 0,
              "ticks": ""
             }
            },
            "type": "parcoords"
           }
          ],
          "pie": [
           {
            "automargin": true,
            "type": "pie"
           }
          ],
          "scatter": [
           {
            "fillpattern": {
             "fillmode": "overlay",
             "size": 10,
             "solidity": 0.2
            },
            "type": "scatter"
           }
          ],
          "scatter3d": [
           {
            "line": {
             "colorbar": {
              "outlinewidth": 0,
              "ticks": ""
             }
            },
            "marker": {
             "colorbar": {
              "outlinewidth": 0,
              "ticks": ""
             }
            },
            "type": "scatter3d"
           }
          ],
          "scattercarpet": [
           {
            "marker": {
             "colorbar": {
              "outlinewidth": 0,
              "ticks": ""
             }
            },
            "type": "scattercarpet"
           }
          ],
          "scattergeo": [
           {
            "marker": {
             "colorbar": {
              "outlinewidth": 0,
              "ticks": ""
             }
            },
            "type": "scattergeo"
           }
          ],
          "scattergl": [
           {
            "marker": {
             "colorbar": {
              "outlinewidth": 0,
              "ticks": ""
             }
            },
            "type": "scattergl"
           }
          ],
          "scattermapbox": [
           {
            "marker": {
             "colorbar": {
              "outlinewidth": 0,
              "ticks": ""
             }
            },
            "type": "scattermapbox"
           }
          ],
          "scatterpolar": [
           {
            "marker": {
             "colorbar": {
              "outlinewidth": 0,
              "ticks": ""
             }
            },
            "type": "scatterpolar"
           }
          ],
          "scatterpolargl": [
           {
            "marker": {
             "colorbar": {
              "outlinewidth": 0,
              "ticks": ""
             }
            },
            "type": "scatterpolargl"
           }
          ],
          "scatterternary": [
           {
            "marker": {
             "colorbar": {
              "outlinewidth": 0,
              "ticks": ""
             }
            },
            "type": "scatterternary"
           }
          ],
          "surface": [
           {
            "colorbar": {
             "outlinewidth": 0,
             "ticks": ""
            },
            "colorscale": [
             [
              0,
              "#0d0887"
             ],
             [
              0.1111111111111111,
              "#46039f"
             ],
             [
              0.2222222222222222,
              "#7201a8"
             ],
             [
              0.3333333333333333,
              "#9c179e"
             ],
             [
              0.4444444444444444,
              "#bd3786"
             ],
             [
              0.5555555555555556,
              "#d8576b"
             ],
             [
              0.6666666666666666,
              "#ed7953"
             ],
             [
              0.7777777777777778,
              "#fb9f3a"
             ],
             [
              0.8888888888888888,
              "#fdca26"
             ],
             [
              1,
              "#f0f921"
             ]
            ],
            "type": "surface"
           }
          ],
          "table": [
           {
            "cells": {
             "fill": {
              "color": "#EBF0F8"
             },
             "line": {
              "color": "white"
             }
            },
            "header": {
             "fill": {
              "color": "#C8D4E3"
             },
             "line": {
              "color": "white"
             }
            },
            "type": "table"
           }
          ]
         },
         "layout": {
          "annotationdefaults": {
           "arrowcolor": "#2a3f5f",
           "arrowhead": 0,
           "arrowwidth": 1
          },
          "autotypenumbers": "strict",
          "coloraxis": {
           "colorbar": {
            "outlinewidth": 0,
            "ticks": ""
           }
          },
          "colorscale": {
           "diverging": [
            [
             0,
             "#8e0152"
            ],
            [
             0.1,
             "#c51b7d"
            ],
            [
             0.2,
             "#de77ae"
            ],
            [
             0.3,
             "#f1b6da"
            ],
            [
             0.4,
             "#fde0ef"
            ],
            [
             0.5,
             "#f7f7f7"
            ],
            [
             0.6,
             "#e6f5d0"
            ],
            [
             0.7,
             "#b8e186"
            ],
            [
             0.8,
             "#7fbc41"
            ],
            [
             0.9,
             "#4d9221"
            ],
            [
             1,
             "#276419"
            ]
           ],
           "sequential": [
            [
             0,
             "#0d0887"
            ],
            [
             0.1111111111111111,
             "#46039f"
            ],
            [
             0.2222222222222222,
             "#7201a8"
            ],
            [
             0.3333333333333333,
             "#9c179e"
            ],
            [
             0.4444444444444444,
             "#bd3786"
            ],
            [
             0.5555555555555556,
             "#d8576b"
            ],
            [
             0.6666666666666666,
             "#ed7953"
            ],
            [
             0.7777777777777778,
             "#fb9f3a"
            ],
            [
             0.8888888888888888,
             "#fdca26"
            ],
            [
             1,
             "#f0f921"
            ]
           ],
           "sequentialminus": [
            [
             0,
             "#0d0887"
            ],
            [
             0.1111111111111111,
             "#46039f"
            ],
            [
             0.2222222222222222,
             "#7201a8"
            ],
            [
             0.3333333333333333,
             "#9c179e"
            ],
            [
             0.4444444444444444,
             "#bd3786"
            ],
            [
             0.5555555555555556,
             "#d8576b"
            ],
            [
             0.6666666666666666,
             "#ed7953"
            ],
            [
             0.7777777777777778,
             "#fb9f3a"
            ],
            [
             0.8888888888888888,
             "#fdca26"
            ],
            [
             1,
             "#f0f921"
            ]
           ]
          },
          "colorway": [
           "#636efa",
           "#EF553B",
           "#00cc96",
           "#ab63fa",
           "#FFA15A",
           "#19d3f3",
           "#FF6692",
           "#B6E880",
           "#FF97FF",
           "#FECB52"
          ],
          "font": {
           "color": "#2a3f5f"
          },
          "geo": {
           "bgcolor": "white",
           "lakecolor": "white",
           "landcolor": "#E5ECF6",
           "showlakes": true,
           "showland": true,
           "subunitcolor": "white"
          },
          "hoverlabel": {
           "align": "left"
          },
          "hovermode": "closest",
          "mapbox": {
           "style": "light"
          },
          "paper_bgcolor": "white",
          "plot_bgcolor": "#E5ECF6",
          "polar": {
           "angularaxis": {
            "gridcolor": "white",
            "linecolor": "white",
            "ticks": ""
           },
           "bgcolor": "#E5ECF6",
           "radialaxis": {
            "gridcolor": "white",
            "linecolor": "white",
            "ticks": ""
           }
          },
          "scene": {
           "xaxis": {
            "backgroundcolor": "#E5ECF6",
            "gridcolor": "white",
            "gridwidth": 2,
            "linecolor": "white",
            "showbackground": true,
            "ticks": "",
            "zerolinecolor": "white"
           },
           "yaxis": {
            "backgroundcolor": "#E5ECF6",
            "gridcolor": "white",
            "gridwidth": 2,
            "linecolor": "white",
            "showbackground": true,
            "ticks": "",
            "zerolinecolor": "white"
           },
           "zaxis": {
            "backgroundcolor": "#E5ECF6",
            "gridcolor": "white",
            "gridwidth": 2,
            "linecolor": "white",
            "showbackground": true,
            "ticks": "",
            "zerolinecolor": "white"
           }
          },
          "shapedefaults": {
           "line": {
            "color": "#2a3f5f"
           }
          },
          "ternary": {
           "aaxis": {
            "gridcolor": "white",
            "linecolor": "white",
            "ticks": ""
           },
           "baxis": {
            "gridcolor": "white",
            "linecolor": "white",
            "ticks": ""
           },
           "bgcolor": "#E5ECF6",
           "caxis": {
            "gridcolor": "white",
            "linecolor": "white",
            "ticks": ""
           }
          },
          "title": {
           "x": 0.05
          },
          "xaxis": {
           "automargin": true,
           "gridcolor": "white",
           "linecolor": "white",
           "ticks": "",
           "title": {
            "standoff": 15
           },
           "zerolinecolor": "white",
           "zerolinewidth": 2
          },
          "yaxis": {
           "automargin": true,
           "gridcolor": "white",
           "linecolor": "white",
           "ticks": "",
           "title": {
            "standoff": 15
           },
           "zerolinecolor": "white",
           "zerolinewidth": 2
          }
         }
        },
        "xaxis": {
         "dtick": 1,
         "linecolor": "#f2f2f2",
         "linewidth": 2,
         "showgrid": false,
         "showline": true,
         "showticklabels": true,
         "tickfont": {
          "color": "#f2f2f2",
          "family": "Arial",
          "size": 12
         },
         "ticks": "outside"
        },
        "yaxis": {
         "showgrid": false,
         "showline": false,
         "showticklabels": false,
         "zeroline": false
        }
       }
      }
     },
     "metadata": {},
     "output_type": "display_data"
    }
   ],
   "source": [
    "fig = go.Figure()\n",
    "for i in range(0, 3):\n",
    "    fig.add_trace(go.Scatter(x=x_data[i], y=y_data[i], mode='lines',\n",
    "        name=labels[i],\n",
    "        line=dict(color=colors[i], width=line_size[i]),\n",
    "        connectgaps=True,\n",
    "                            ))\n",
    "\n",
    "    fig.add_trace(go.Scatter(\n",
    "        x=[x_data[i][0], x_data[i][-1]],\n",
    "        y=[y_data[i][0], y_data[i][-1]],\n",
    "        mode='markers',\n",
    "        marker=dict(color=colors[i], size=mode_size[i])\n",
    "    ))\n",
    "    \n",
    "fig.update_xaxes(dtick=1)\n",
    "    \n",
    "fig.update_layout(\n",
    "    xaxis=dict(\n",
    "        showline=True,\n",
    "        showgrid=False,\n",
    "        showticklabels=True,\n",
    "        linecolor='#f2f2f2',\n",
    "        linewidth=2,\n",
    "        ticks='outside',\n",
    "        tickfont=dict(\n",
    "            family='Arial',\n",
    "            size=12,\n",
    "            color='#f2f2f2'\n",
    "        ),\n",
    "    ),\n",
    "    yaxis=dict(\n",
    "        showgrid=False,\n",
    "        zeroline=False,\n",
    "        showline=False,\n",
    "        showticklabels=False,\n",
    "    ),\n",
    "    autosize=False,\n",
    "    margin=dict(\n",
    "        autoexpand=False,\n",
    "        l=160,\n",
    "        r=20,\n",
    "        t=110,\n",
    "    ),\n",
    "    showlegend=False,\n",
    "    plot_bgcolor='#080808',\n",
    "    paper_bgcolor='#080808'\n",
    ")\n",
    "\n",
    "annotations = []\n",
    "\n",
    "# Adding labels\n",
    "for y_trace, label, color in zip(y_data, labels, colors):\n",
    "    # labeling the left_side of the plot\n",
    "    annotations.append(dict(xref='paper', x=0.05, y=y_trace[0],\n",
    "                                  xanchor='right', yanchor='middle',\n",
    "                                  \n",
    "                                  font=dict(\n",
    "                                            size=16,\n",
    "                                            color = '#f2f2f2'),\n",
    "                                  showarrow=False))\n",
    "    # labeling the right_side of the plot\n",
    "    annotations.append(dict(xref='paper', x=0.95, y=y_trace[2],\n",
    "                                  xanchor='left', yanchor='middle',\n",
    "\n",
    "                                  font=dict(\n",
    "                                            size=16,\n",
    "                                            color = '#f2f2f2'),\n",
    "                                  showarrow=False))\n",
    "\n",
    "annotations.append(dict(xref='paper', yref='paper', x=0.025, y=1.25,\n",
    "                              xanchor='left', yanchor='top',\n",
    "                              text='<개인형 이동장치 수입 현황>',\n",
    "                              font=dict(\n",
    "                                        size=25,\n",
    "                                        color='#f2f2f2'),\n",
    "                              showarrow=False))\n",
    "\n",
    "annotations.append(dict(xref='paper', yref='paper', x=0.5, y=-0.2,\n",
    "                              xanchor='center', yanchor='bottom',\n",
    "                              text='단위 : 백만달러 ',\n",
    "                              font=dict(\n",
    "                                        size=15,\n",
    "                                        color='#f2f2f2'),\n",
    "                              showarrow=False))\n",
    "\n",
    "fig.update_layout(annotations=annotations)"
   ]
  },
  {
   "cell_type": "markdown",
   "id": "17128779",
   "metadata": {},
   "source": []
  },
  {
   "cell_type": "code",
   "execution_count": 29,
   "id": "acc12428",
   "metadata": {},
   "outputs": [],
   "source": [
    "pm_data_개인=pm_data_금액.query('종류==\"개인형 이동장치\"')"
   ]
  },
  {
   "cell_type": "code",
   "execution_count": 30,
   "id": "e6e62af6",
   "metadata": {},
   "outputs": [
    {
     "data": {
      "text/html": [
       "<div>\n",
       "<style scoped>\n",
       "    .dataframe tbody tr th:only-of-type {\n",
       "        vertical-align: middle;\n",
       "    }\n",
       "\n",
       "    .dataframe tbody tr th {\n",
       "        vertical-align: top;\n",
       "    }\n",
       "\n",
       "    .dataframe thead th {\n",
       "        text-align: right;\n",
       "    }\n",
       "</style>\n",
       "<table border=\"1\" class=\"dataframe\">\n",
       "  <thead>\n",
       "    <tr style=\"text-align: right;\">\n",
       "      <th></th>\n",
       "      <th>종류</th>\n",
       "      <th>2019년</th>\n",
       "      <th>2020년</th>\n",
       "      <th>2021년</th>\n",
       "    </tr>\n",
       "  </thead>\n",
       "  <tbody>\n",
       "    <tr>\n",
       "      <th>0</th>\n",
       "      <td>개인형 이동장치</td>\n",
       "      <td>89.9</td>\n",
       "      <td>131.7</td>\n",
       "      <td>193.7</td>\n",
       "    </tr>\n",
       "  </tbody>\n",
       "</table>\n",
       "</div>"
      ],
      "text/plain": [
       "         종류  2019년  2020년  2021년\n",
       "0  개인형 이동장치   89.9  131.7  193.7"
      ]
     },
     "execution_count": 30,
     "metadata": {},
     "output_type": "execute_result"
    }
   ],
   "source": [
    "pm_data_개인"
   ]
  },
  {
   "cell_type": "code",
   "execution_count": null,
   "id": "43421b2d",
   "metadata": {},
   "outputs": [],
   "source": [
    "    "
   ]
  }
 ],
 "metadata": {
  "kernelspec": {
   "display_name": "Python 3.11.0 64-bit",
   "language": "python",
   "name": "python3"
  },
  "language_info": {
   "codemirror_mode": {
    "name": "ipython",
    "version": 3
   },
   "file_extension": ".py",
   "mimetype": "text/x-python",
   "name": "python",
   "nbconvert_exporter": "python",
   "pygments_lexer": "ipython3",
   "version": "3.11.0"
  },
  "vscode": {
   "interpreter": {
    "hash": "58d0f470d9f65534e07525eda6d0e34825d5591c88f44458eed6eb38804c1276"
   }
  }
 },
 "nbformat": 4,
 "nbformat_minor": 5
}
